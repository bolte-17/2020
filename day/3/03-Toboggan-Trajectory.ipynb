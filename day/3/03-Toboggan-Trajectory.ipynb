{
 "cells": [
  {
   "cell_type": "markdown",
   "metadata": {},
   "source": [
    "# Toboggan Trajectory\n",
    "\n",
    "## Part 1: How many trees do we crash into? 😅\n",
    "\n",
    "Looks like we're dealing with a 2D array today. Let's get it loaded up."
   ]
  },
  {
   "cell_type": "code",
   "execution_count": 1,
   "metadata": {},
   "source": [
    "#!fsharp\n",
    "#!value --name input --from-file input.txt"
   ],
   "outputs": []
  },
  {
   "cell_type": "code",
   "execution_count": 1,
   "metadata": {},
   "source": [
    "#!fsharp\n",
    "#!share input --from value\n",
    "\n",
    "let trees = \n",
    "  input.Split(\"\\n\", System.StringSplitOptions.RemoveEmptyEntries)\n",
    "  |> array2D\n",
    "  |> Array2D.map ((=) '#')"
   ],
   "outputs": []
  },
  {
   "cell_type": "markdown",
   "metadata": {},
   "source": [
    "The only tricky thing is that the array repeats horizontally. I feel like the more comprehensive solution would be to make some sort of `ToroidalMatrix<'a>` type, but we're going to have to write a `traverse` function anyway so might as well just stick the modulo operator `%` in there while we're at it."
   ]
  },
  {
   "cell_type": "code",
   "execution_count": 1,
   "metadata": {},
   "source": [
    "#!fsharp\n",
    "let traverse arr (dx, dy) =\n",
    "  if (dx < 0 || dy < 0) then invalidArg \"vector\" \"Vector must be positive\"\n",
    "  let (lenX, lenY) = (Array2D.length2 arr, Array2D.length1 arr)\n",
    "  (0,0) |> Seq.unfold (\n",
    "    function\n",
    "    | (x, y) when y < lenY -> Some (arr.[y, x % lenX], (x + dx, y + dy))\n",
    "    | _ -> None\n",
    "  )\n",
    "\n",
    "traverse trees (3, 1) \n",
    "|> Seq.filter id\n",
    "|> Seq.length "
   ],
   "outputs": [
    {
     "output_type": "execute_result",
     "data": {
      "text/html": "<div class=\"dni-plaintext\">228</div>"
     },
     "execution_count": 1,
     "metadata": {}
    }
   ]
  },
  {
   "cell_type": "markdown",
   "metadata": {},
   "source": [
    "## Part 2\n",
    "\n",
    "Hey! Our bet paid off in writing `traverse` to take a vector argument. Second solution's just a `map`-`reduce` away."
   ]
  },
  {
   "cell_type": "code",
   "execution_count": 1,
   "metadata": {},
   "source": [
    "#!fsharp\n",
    "let vectors = [\n",
    "  (1,1);\n",
    "  (3,1);\n",
    "  (5,1);\n",
    "  (7,1);\n",
    "  (1,2)\n",
    "] \n",
    "let treeCounts = vectors |> List.map (traverse trees >> Seq.filter id >> Seq.length)\n",
    "let product = treeCounts |> List.map int64 |> List.reduce (*)\n",
    "$\"%A{treeCounts} = {product}\""
   ],
   "outputs": [
    {
     "output_type": "execute_result",
     "data": {
      "text/plain": "[84; 228; 89; 100; 40] = 6818112000"
     },
     "execution_count": 1,
     "metadata": {}
    }
   ]
  },
  {
   "cell_type": "markdown",
   "metadata": {},
   "source": [
    "# Bonus Stage\n",
    "\n",
    "Here's that `ToroidalMatrix` idea I mentioned. Think it ends up not really being worth it for this, but it's an interesting concept."
   ]
  },
  {
   "cell_type": "code",
   "execution_count": 1,
   "metadata": {},
   "source": [
    "#!fsharp\n",
    "module Seq =\n",
    "  let repeatInfinite sequence = seq { while true do yield! sequence }\n",
    "\n",
    "type Toroidal<'a> (seq2d: 'a seq seq) =\n",
    "  member this.Item \n",
    "    with get(x,y) = seq2d |> Seq.item x |> Seq.repeatInfinite |> Seq.item y\n",
    "  member this.Height = seq2d |> Seq.length\n",
    "\n",
    "(Toroidal [[1;2;3]; [4;5;6]]).[1,4]"
   ],
   "outputs": [
    {
     "output_type": "execute_result",
     "data": {
      "text/html": "<div class=\"dni-plaintext\">5</div>"
     },
     "execution_count": 1,
     "metadata": {}
    }
   ]
  }
 ],
 "metadata": {
  "kernelspec": {
   "display_name": ".NET (C#)",
   "language": "C#",
   "name": ".net-csharp"
  },
  "language_info": {
   "file_extension": ".cs",
   "mimetype": "text/x-csharp",
   "name": "C#",
   "pygments_lexer": "csharp",
   "version": "8.0"
  }
 },
 "nbformat": 4,
 "nbformat_minor": 4
}