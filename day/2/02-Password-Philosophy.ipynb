{
 "cells": [
  {
   "cell_type": "markdown",
   "metadata": {},
   "source": [
    "# Day 2: Password Philosophy\n",
    "\n",
    "## Part 1: Validate Passwords (Character Count)\n",
    "\n",
    "A little bit more complexity today, but nothing too crazy. \n",
    "\n",
    "We'll start by getting our input as before."
   ]
  },
  {
   "cell_type": "code",
   "execution_count": 1,
   "metadata": {},
   "source": [
    "#!fsharp\n",
    "#!value --from-file input.txt --name input"
   ],
   "outputs": []
  },
  {
   "cell_type": "code",
   "execution_count": 1,
   "metadata": {},
   "source": [
    "#!fsharp\n",
    "#!share input --from value"
   ],
   "outputs": []
  },
  {
   "cell_type": "markdown",
   "metadata": {},
   "source": [
    "Now to do some parsing and get the input into a nice format for later use.\n",
    "\n",
    "We can reference external sources with `#r`, and using the `nuget:` format lets us pull in libraries from NuGet, the .NET package manager."
   ]
  },
  {
   "cell_type": "code",
   "execution_count": 1,
   "metadata": {},
   "source": [
    "#!fsharp\n",
    "#r \"nuget: FSharp.Text.RegexProvider\"\n",
    "open FSharp.Text.RegexProvider\n",
    "open FSharp.Text.RegexExtensions\n",
    "\n",
    "type PasswordRegex = Regex< @\"^(?<Min>\\d+)-(?<Max>\\d+) (?<Character>[a-z]): (?<Password>[a-z]+)$\" >\n",
    "\n",
    "let passwords = \n",
    "    PasswordRegex(System.Text.RegularExpressions.RegexOptions.Multiline).TypedMatches(input)\n",
    "    |> Seq.map (fun x -> (x.Min.AsInt, x.Max.AsInt, x.Character.AsChar, x.Password.Value))\n",
    "    |> Seq.toList\n",
    "passwords"
   ],
   "outputs": [
    {
     "output_type": "execute_result",
     "data": {
      "text/html": "<table><thead><tr><th><i>index</i></th><th>Item1</th><th>Item2</th><th>Item3</th><th>Item4</th></tr></thead><tbody><tr><td>0</td><td><div class=\"dni-plaintext\">5</div></td><td><div class=\"dni-plaintext\">6</div></td><td><div class=\"dni-plaintext\">s</div></td><td><div class=\"dni-plaintext\">zssmssbsms</div></td></tr><tr><td>1</td><td><div class=\"dni-plaintext\">3</div></td><td><div class=\"dni-plaintext\">6</div></td><td><div class=\"dni-plaintext\">j</div></td><td><div class=\"dni-plaintext\">jjjjjrrj</div></td></tr><tr><td>2</td><td><div class=\"dni-plaintext\">4</div></td><td><div class=\"dni-plaintext\">7</div></td><td><div class=\"dni-plaintext\">k</div></td><td><div class=\"dni-plaintext\">kfkgkkkkk</div></td></tr><tr><td>3</td><td><div class=\"dni-plaintext\">2</div></td><td><div class=\"dni-plaintext\">3</div></td><td><div class=\"dni-plaintext\">n</div></td><td><div class=\"dni-plaintext\">nkbgfnn</div></td></tr><tr><td>4</td><td><div class=\"dni-plaintext\">7</div></td><td><div class=\"dni-plaintext\">12</div></td><td><div class=\"dni-plaintext\">h</div></td><td><div class=\"dni-plaintext\">hhhhhhdhhhhhfhhhh</div></td></tr><tr><td>5</td><td><div class=\"dni-plaintext\">1</div></td><td><div class=\"dni-plaintext\">4</div></td><td><div class=\"dni-plaintext\">v</div></td><td><div class=\"dni-plaintext\">nvvv</div></td></tr><tr><td>6</td><td><div class=\"dni-plaintext\">6</div></td><td><div class=\"dni-plaintext\">9</div></td><td><div class=\"dni-plaintext\">h</div></td><td><div class=\"dni-plaintext\">hhthplhgmpzsmhhxhh</div></td></tr><tr><td>7</td><td><div class=\"dni-plaintext\">6</div></td><td><div class=\"dni-plaintext\">7</div></td><td><div class=\"dni-plaintext\">r</div></td><td><div class=\"dni-plaintext\">rrtrrrgrgcc</div></td></tr><tr><td>8</td><td><div class=\"dni-plaintext\">10</div></td><td><div class=\"dni-plaintext\">15</div></td><td><div class=\"dni-plaintext\">h</div></td><td><div class=\"dni-plaintext\">sdbhvbhfjhwllmrpdv</div></td></tr><tr><td>9</td><td><div class=\"dni-plaintext\">3</div></td><td><div class=\"dni-plaintext\">4</div></td><td><div class=\"dni-plaintext\">s</div></td><td><div class=\"dni-plaintext\">bsss</div></td></tr><tr><td>10</td><td><div class=\"dni-plaintext\">5</div></td><td><div class=\"dni-plaintext\">7</div></td><td><div class=\"dni-plaintext\">s</div></td><td><div class=\"dni-plaintext\">sstjsswsspldr</div></td></tr><tr><td>11</td><td><div class=\"dni-plaintext\">10</div></td><td><div class=\"dni-plaintext\">14</div></td><td><div class=\"dni-plaintext\">b</div></td><td><div class=\"dni-plaintext\">bzbqbbbkpvbblbnrbs</div></td></tr><tr><td>12</td><td><div class=\"dni-plaintext\">4</div></td><td><div class=\"dni-plaintext\">11</div></td><td><div class=\"dni-plaintext\">s</div></td><td><div class=\"dni-plaintext\">sssmcskwsssssss</div></td></tr><tr><td>13</td><td><div class=\"dni-plaintext\">2</div></td><td><div class=\"dni-plaintext\">10</div></td><td><div class=\"dni-plaintext\">v</div></td><td><div class=\"dni-plaintext\">rlttvvnvvvvvvksm</div></td></tr><tr><td>14</td><td><div class=\"dni-plaintext\">4</div></td><td><div class=\"dni-plaintext\">5</div></td><td><div class=\"dni-plaintext\">x</div></td><td><div class=\"dni-plaintext\">xkrxx</div></td></tr><tr><td>15</td><td><div class=\"dni-plaintext\">2</div></td><td><div class=\"dni-plaintext\">5</div></td><td><div class=\"dni-plaintext\">m</div></td><td><div class=\"dni-plaintext\">bfmmmmm</div></td></tr><tr><td>16</td><td><div class=\"dni-plaintext\">11</div></td><td><div class=\"dni-plaintext\">14</div></td><td><div class=\"dni-plaintext\">r</div></td><td><div class=\"dni-plaintext\">rlprrtrcrxcrgrrhrr</div></td></tr><tr><td>17</td><td><div class=\"dni-plaintext\">4</div></td><td><div class=\"dni-plaintext\">16</div></td><td><div class=\"dni-plaintext\">l</div></td><td><div class=\"dni-plaintext\">dzllmllldnllblwcr</div></td></tr><tr><td>18</td><td><div class=\"dni-plaintext\">3</div></td><td><div class=\"dni-plaintext\">4</div></td><td><div class=\"dni-plaintext\">t</div></td><td><div class=\"dni-plaintext\">nplr</div></td></tr><tr><td>19</td><td><div class=\"dni-plaintext\">3</div></td><td><div class=\"dni-plaintext\">5</div></td><td><div class=\"dni-plaintext\">x</div></td><td><div class=\"dni-plaintext\">jcxxgkxtjwwgh</div></td></tr><tr><td colspan=\"5\">(980 more)</td></tr></tbody></table>"
     },
     "execution_count": 1,
     "metadata": {}
    }
   ]
  },
  {
   "cell_type": "markdown",
   "metadata": {},
   "source": [
    "Now to do the validation:"
   ]
  },
  {
   "cell_type": "code",
   "execution_count": 1,
   "metadata": {},
   "source": [
    "#!fsharp\n",
    "module Part1 =\n",
    "    let validate (min, max, character, password) =\n",
    "        let charCount = \n",
    "            password \n",
    "            |> Seq.filter ((=) character) \n",
    "            |> Seq.length\n",
    "        min <= charCount && charCount <= max\n",
    "\n",
    "passwords\n",
    "  |> List.countBy Part1.validate \n",
    "  |> sprintf \"%A\""
   ],
   "outputs": [
    {
     "output_type": "execute_result",
     "data": {
      "text/plain": "[(true, 638); (false, 362)]"
     },
     "execution_count": 1,
     "metadata": {}
    }
   ]
  },
  {
   "cell_type": "markdown",
   "metadata": {},
   "source": [
    "## Part 2: Validate Passwords (Character Indexes)\n",
    "\n",
    "Rather than counting characters, the numbers specify two indexes into the password, exactly one of which must be the specified character."
   ]
  },
  {
   "cell_type": "code",
   "execution_count": 1,
   "metadata": {},
   "source": [
    "#!fsharp\n",
    "module Part2 =\n",
    "    let validate (first, second, character, password:string) =\n",
    "        (password.[first-1] = character) <> (password.[second-1] = character)\n",
    "\n",
    "passwords\n",
    "  |> List.countBy Part2.validate\n",
    "  |> sprintf \"%A\""
   ],
   "outputs": [
    {
     "output_type": "execute_result",
     "data": {
      "text/plain": "[(false, 301); (true, 699)]"
     },
     "execution_count": 1,
     "metadata": {}
    }
   ]
  }
 ],
 "metadata": {
  "kernelspec": {
   "display_name": ".NET (C#)",
   "language": "C#",
   "name": ".net-csharp"
  },
  "language_info": {
   "file_extension": ".cs",
   "mimetype": "text/x-csharp",
   "name": "C#",
   "pygments_lexer": "csharp",
   "version": "8.0"
  }
 },
 "nbformat": 4,
 "nbformat_minor": 4
}