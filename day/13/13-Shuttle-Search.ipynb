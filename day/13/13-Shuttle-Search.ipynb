{
 "cells": [
  {
   "cell_type": "code",
   "execution_count": 1,
   "metadata": {},
   "source": [
    "#!fsharp\n",
    "#!value --from-file input.txt --name input"
   ],
   "outputs": []
  },
  {
   "cell_type": "code",
   "execution_count": 1,
   "metadata": {},
   "source": [
    "#!fsharp\n",
    "#!share input --from value\n",
    "let initialTime, ids = let lines = input.Trim().Split() in int lines.[0], lines.[1].Split(',')\n",
    "\n",
    "// modulo, not remainder (always outputs between 0 and m-1)\n",
    "let inline (%!) n m = (n % m + m) % m\n",
    "\n",
    "let buses = \n",
    "  ids \n",
    "  |> Seq.filter ((<>) \"x\")\n",
    "  |> Seq.map int\n",
    "\n",
    "buses \n",
    "|> Seq.map (fun x -> x, -initialTime %! x) \n",
    "|> Seq.minBy snd\n",
    "|> ((<||) (*))"
   ],
   "outputs": [
    {
     "output_type": "execute_result",
     "data": {
      "text/html": "<div class=\"dni-plaintext\">4938</div>"
     },
     "execution_count": 1,
     "metadata": {}
    }
   ]
  },
  {
   "cell_type": "code",
   "execution_count": 1,
   "metadata": {},
   "source": [
    "#!fsharp\n",
    "// We're looking for x such that x ≡ a (mod m) for each (a,m) in this list\n",
    "let modRemainders =\n",
    "  ids // [|\"17\";\"x\";\"x\";\"x\";\"31\";...|]\n",
    "  |> Seq.indexed\n",
    "  |> Seq.filter (snd >> (<>) \"x\")\n",
    "  |> Seq.map (fun (i,x) -> let m = int64 x in int64 -i %! m, m)\n",
    "\n",
    "let modInverse p q =\n",
    "  let rec extendedEuclid (r1, s1) (r2, s2) =\n",
    "    match r1 / r2, r1 % r2 with\n",
    "    | _, 0L -> s2\n",
    "    | q, r -> extendedEuclid (r2, s2) (r, s1 - q * s2)\n",
    "  extendedEuclid (p, 1L) (q, 0L) %! q\n",
    "\n",
    "let chineseRemainder remainderModulusPairs = \n",
    "  // Assuming all modulos are coprime, M = product of modulos is also the LCM\n",
    "  let M = remainderModulusPairs |> Seq.map snd |> Seq.reduce (*)\n",
    "\n",
    "  // Working in ℤ/Mℤ modular arithmetic ring\n",
    "  let ( +% ) a b = (a + b) % M\n",
    "  let ( *% ) a b = (a * b) % M\n",
    "\n",
    "  remainderModulusPairs \n",
    "  |> Seq.map (fun (a,m) -> let b = M / m in a *% b *% modInverse b m)\n",
    "  |> Seq.reduce (+%)\n",
    "\n",
    "chineseRemainder modRemainders"
   ],
   "outputs": [
    {
     "output_type": "execute_result",
     "data": {
      "text/html": "<div class=\"dni-plaintext\">230903629977901</div>"
     },
     "execution_count": 1,
     "metadata": {}
    }
   ]
  }
 ],
 "metadata": {
  "kernelspec": {
   "display_name": ".NET (C#)",
   "language": "C#",
   "name": ".net-csharp"
  },
  "language_info": {
   "file_extension": ".cs",
   "mimetype": "text/x-csharp",
   "name": "C#",
   "pygments_lexer": "csharp",
   "version": "8.0"
  }
 },
 "nbformat": 4,
 "nbformat_minor": 4
}