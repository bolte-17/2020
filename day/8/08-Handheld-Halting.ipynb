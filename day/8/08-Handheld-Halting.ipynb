{
 "cells": [
  {
   "cell_type": "code",
   "execution_count": 1,
   "metadata": {},
   "source": [
    "#!fsharp\n",
    "#!value --from-file input.txt --name input"
   ],
   "outputs": []
  },
  {
   "cell_type": "code",
   "execution_count": 1,
   "metadata": {},
   "source": [
    "#!fsharp\n",
    "#!share input --from value\n",
    "\n",
    "type Instruction = \n",
    "  | Jump of int\n",
    "  | Acc of int\n",
    "  | NoOp of int\n",
    "\n",
    "let parseProgram (inp:string) = \n",
    "  inp.Trim().Split('\\n')\n",
    "  |> Array.map (fun instruction -> \n",
    "    match instruction.Split(' ') with\n",
    "    | [| \"jmp\"; i |] -> Jump (int i)\n",
    "    | [| \"acc\"; i |] -> Acc (int i)\n",
    "    | [| \"nop\"; i |] -> NoOp (int i)\n",
    "    | err -> failwith $\"Bad instruction: '%A{err}'\"\n",
    "    )\n",
    "\n",
    "let exampleProgram = parseProgram \"\"\"nop +0\n",
    "acc +1\n",
    "jmp +4\n",
    "acc +3\n",
    "jmp -3\n",
    "acc -99\n",
    "acc +1\n",
    "jmp -4\n",
    "acc +6\"\"\"\n",
    "let fullProgram = parseProgram input\n",
    "\n",
    "exampleProgram |> sprintf \"%A\""
   ],
   "outputs": [
    {
     "output_type": "execute_result",
     "data": {
      "text/plain": "[|NoOp 0; Acc 1; Jump 4; Acc 3; Jump -3; Acc -99; Acc 1; Jump -4; Acc 6|]"
     },
     "execution_count": 1,
     "metadata": {}
    }
   ]
  },
  {
   "cell_type": "code",
   "execution_count": 1,
   "metadata": {},
   "source": [
    "#!fsharp\n",
    "type State = \n",
    "  {\n",
    "    Head: int\n",
    "    Acc: int\n",
    "    Visited: int Set\n",
    "  }\n",
    "\n",
    "type MachineState =\n",
    "  | Running of State\n",
    "  | Looping of State\n",
    "  | Error of int\n",
    "  | Halted of int\n",
    "\n",
    "let initialState = Running { Head = 0; Acc = 0; Visited = Set.empty }\n",
    "let runProgram (program: Instruction array) = \n",
    "  let setNextHead state i = { state with Head = state.Head + i; Visited = state.Visited.Add state.Head }\n",
    "  let runInstruction = function\n",
    "    | Running { Head = head; Acc = acc } when head = program.Length -> Halted acc |> Some\n",
    "    | Running { Head = head } when head > program.Length || head < 0 -> Error head |> Some\n",
    "    | Running ({ Head = head; Visited = visited } as state) when visited |> Set.contains head -> Looping state |> Some\n",
    "    | Running ({ Head = head; Acc = acc; Visited = visited } as state) ->\n",
    "      let next = \n",
    "        match program.[head] with \n",
    "        | NoOp _ -> setNextHead state 1\n",
    "        | Acc i -> setNextHead { state with Acc = acc + i } 1\n",
    "        | Jump i -> setNextHead state i\n",
    "      next |> Running |> Some\n",
    "    | _ -> None\n",
    "  initialState |> Seq.unfold (runInstruction >> Option.map (fun x -> (x,x)))\n",
    "\n",
    "runProgram exampleProgram \n",
    "|> Seq.last \n",
    "|> printf \"Example program finishes execution with state %A\"\n",
    "\n",
    "runProgram fullProgram \n",
    "|> Seq.last\n",
    "|> printf \"Full program finishes execution with state %A\""
   ],
   "outputs": [
    {
     "output_type": "execute_result",
     "data": {
      "text/plain": "Example program finishes execution with state "
     },
     "execution_count": 1,
     "metadata": {}
    },
    {
     "output_type": "execute_result",
     "data": {
      "text/plain": "Looping { Head = 1\n          Acc = 5\n          Visited = set [0; 1; 2; 3; 4; 6; 7] }"
     },
     "execution_count": 1,
     "metadata": {}
    },
    {
     "output_type": "execute_result",
     "data": {
      "text/plain": "Full program finishes execution with state "
     },
     "execution_count": 1,
     "metadata": {}
    },
    {
     "output_type": "execute_result",
     "data": {
      "text/plain": "Looping { Head = 336\n          Acc = 1610\n          Visited = set [0; 1; 2; 3; 4; 28; 29; 30; 31; ...] }"
     },
     "execution_count": 1,
     "metadata": {}
    }
   ]
  },
  {
   "cell_type": "code",
   "execution_count": 1,
   "metadata": {},
   "source": [
    "#!fsharp\n",
    "let flipInstruction = function\n",
    "  | Jump i -> NoOp i\n",
    "  | NoOp i -> Jump i\n",
    "  | x -> x\n",
    "\n",
    "let flipInstructionAt i = Array.mapi (fun j -> if j = i then flipInstruction else id)\n",
    "\n",
    "Seq.init fullProgram.Length id\n",
    "|> Seq.map (fun i -> \n",
    "  fullProgram\n",
    "  |> flipInstructionAt i\n",
    "  |> runProgram\n",
    "  |> Seq.last\n",
    ")\n",
    "|> Seq.indexed\n",
    "|> Seq.pick (function \n",
    "  | i, (Halted _ as haltState) -> Some $\"Flipping instruction '%i{i}: %A{fullProgram.[i]}' allows program to successfully finish with state %A{haltState}\" \n",
    "  | _ -> None)"
   ],
   "outputs": [
    {
     "output_type": "execute_result",
     "data": {
      "text/plain": "Flipping instruction '188: Jump -55' allows program to successfully finish with state Halted 1703"
     },
     "execution_count": 1,
     "metadata": {}
    }
   ]
  },
  {
   "cell_type": "code",
   "execution_count": 1,
   "metadata": {},
   "source": [
    "#!fsharp\n",
    "type State =\n",
    "  | Running of (int * int)\n",
    "  | Halt of int\n",
    "  | Loop of int\n",
    "  | Error\n",
    "\n",
    "let addAcc i = function\n",
    "  | Halt x -> Halt (i + x)\n",
    "  | Loop x -> Loop (i + x)\n",
    "  | x -> x\n",
    "\n",
    "let (|HeadIncrement|) = function\n",
    "  | Jump j -> j\n",
    "  | _ -> 1\n",
    "\n",
    "let (|AccIncrement|) = function\n",
    "  | Acc a -> a\n",
    "  | _ -> 0\n",
    "\n",
    "let findOrAdd key generator cache =\n",
    "  match Map.tryFind key cache with\n",
    "    | Some x -> (x, cache)\n",
    "    | None -> \n",
    "      let (result, newCache) = generator()\n",
    "      (result, Map.add key result newCache)\n",
    "\n",
    "module Program =\n",
    "  let step (program: Instruction array) (head, acc) =\n",
    "    match Array.tryItem head program with\n",
    "    | Some (HeadIncrement h & AccIncrement a) -> Running (head + h, acc + a)\n",
    "    | None when head = program.Length -> Halt acc\n",
    "    | None -> Error\n",
    "\n",
    "  let rec private exec program (cache:Map<int, State>) (i, a) =\n",
    "    cache |> findOrAdd i (fun () -> \n",
    "      match step program (i,a) with \n",
    "        | Running (head, acc) -> \n",
    "          let (result, c) = exec program (Map.add i (Loop 0) cache) (head, acc)\n",
    "          (addAcc (acc - a) result, c)\n",
    "        | stop -> (stop, cache)\n",
    "    )\n",
    "\n",
    "  let run program = \n",
    "    exec program Map.empty (0,0) |> fst\n",
    "  let runAll program =\n",
    "    Seq.init (Array.length program) (fun i -> (i,0)) |> Seq.mapFold (exec program) Map.empty |> snd\n",
    "\n",
    "Program.runAll fullProgram\n",
    "\n",
    "\n",
    ""
   ],
   "outputs": [
    {
     "output_type": "execute_result",
     "data": {
      "text/html": "<table><thead><tr><th><i>key</i></th><th><i>type</i></th><th>Item</th></tr></thead><tbody><tr><td><div class=\"dni-plaintext\">0</div></td><td>FSI_0008+State+Loop</td><td><div class=\"dni-plaintext\">1610</div></td></tr><tr><td><div class=\"dni-plaintext\">1</div></td><td>FSI_0008+State+Loop</td><td><div class=\"dni-plaintext\">1610</div></td></tr><tr><td><div class=\"dni-plaintext\">2</div></td><td>FSI_0008+State+Loop</td><td><div class=\"dni-plaintext\">1628</div></td></tr><tr><td><div class=\"dni-plaintext\">3</div></td><td>FSI_0008+State+Loop</td><td><div class=\"dni-plaintext\">1609</div></td></tr><tr><td><div class=\"dni-plaintext\">4</div></td><td>FSI_0008+State+Loop</td><td><div class=\"dni-plaintext\">1590</div></td></tr><tr><td><div class=\"dni-plaintext\">5</div></td><td>FSI_0008+State+Loop</td><td><div class=\"dni-plaintext\">692</div></td></tr><tr><td><div class=\"dni-plaintext\">6</div></td><td>FSI_0008+State+Loop</td><td><div class=\"dni-plaintext\">677</div></td></tr><tr><td><div class=\"dni-plaintext\">7</div></td><td>FSI_0008+State+Loop</td><td><div class=\"dni-plaintext\">635</div></td></tr><tr><td><div class=\"dni-plaintext\">8</div></td><td>FSI_0008+State+Loop</td><td><div class=\"dni-plaintext\">605</div></td></tr><tr><td><div class=\"dni-plaintext\">9</div></td><td>FSI_0008+State+Loop</td><td><div class=\"dni-plaintext\">612</div></td></tr><tr><td><div class=\"dni-plaintext\">10</div></td><td>FSI_0008+State+Loop</td><td><div class=\"dni-plaintext\">1620</div></td></tr><tr><td><div class=\"dni-plaintext\">11</div></td><td>FSI_0008+State+Loop</td><td><div class=\"dni-plaintext\">1589</div></td></tr><tr><td><div class=\"dni-plaintext\">12</div></td><td>FSI_0008+State+Loop</td><td><div class=\"dni-plaintext\">1580</div></td></tr><tr><td><div class=\"dni-plaintext\">13</div></td><td>FSI_0008+State+Loop</td><td><div class=\"dni-plaintext\">879</div></td></tr><tr><td><div class=\"dni-plaintext\">14</div></td><td>FSI_0008+State+Loop</td><td><div class=\"dni-plaintext\">879</div></td></tr><tr><td><div class=\"dni-plaintext\">15</div></td><td>FSI_0008+State+Loop</td><td><div class=\"dni-plaintext\">835</div></td></tr><tr><td><div class=\"dni-plaintext\">16</div></td><td>FSI_0008+State+Loop</td><td><div class=\"dni-plaintext\">817</div></td></tr><tr><td><div class=\"dni-plaintext\">17</div></td><td>FSI_0008+State+Loop</td><td><div class=\"dni-plaintext\">821</div></td></tr><tr><td><div class=\"dni-plaintext\">18</div></td><td>FSI_0008+State+Halt</td><td><div class=\"dni-plaintext\">130</div></td></tr><tr><td><div class=\"dni-plaintext\">19</div></td><td>FSI_0008+State+Halt</td><td><div class=\"dni-plaintext\">121</div></td></tr><tr><td colspan=\"3\">(632 more)</td></tr></tbody></table>"
     },
     "execution_count": 1,
     "metadata": {}
    }
   ]
  }
 ],
 "metadata": {
  "kernelspec": {
   "display_name": ".NET (C#)",
   "language": "C#",
   "name": ".net-csharp"
  },
  "language_info": {
   "file_extension": ".cs",
   "mimetype": "text/x-csharp",
   "name": "C#",
   "pygments_lexer": "csharp",
   "version": "8.0"
  }
 },
 "nbformat": 4,
 "nbformat_minor": 4
}