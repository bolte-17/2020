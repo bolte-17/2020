{
 "cells": [
  {
   "cell_type": "code",
   "execution_count": 1,
   "metadata": {},
   "source": [
    "#!fsharp\n",
    "#!value --from-file input.txt --name input"
   ],
   "outputs": []
  },
  {
   "cell_type": "code",
   "execution_count": 1,
   "metadata": {},
   "source": [
    "#!fsharp\n",
    "#!share input --from value\n",
    "\n",
    "type Instruction = \n",
    "  | Jump of int\n",
    "  | Acc of int\n",
    "  | NoOp of int\n",
    "\n",
    "let parseProgram (inp:string) = \n",
    "  inp.Trim().Split('\\n')\n",
    "  |> Array.map (fun instruction -> \n",
    "    match instruction.Split(' ') with\n",
    "    | [| \"jmp\"; i |] -> Jump (int i)\n",
    "    | [| \"acc\"; i |] -> Acc (int i)\n",
    "    | [| \"nop\"; i |] -> NoOp (int i)\n",
    "    | err -> failwith $\"Bad instruction: '%A{err}'\"\n",
    "    )\n",
    "\n",
    "let exampleProgram = parseProgram \"\"\"nop +0\n",
    "acc +1\n",
    "jmp +4\n",
    "acc +3\n",
    "jmp -3\n",
    "acc -99\n",
    "acc +1\n",
    "jmp -4\n",
    "acc +6\"\"\"\n",
    "let fullProgram = parseProgram input\n",
    "\n",
    "exampleProgram |> sprintf \"%A\""
   ],
   "outputs": [
    {
     "output_type": "execute_result",
     "data": {
      "text/plain": "[|NoOp 0; Acc 1; Jump 4; Acc 3; Jump -3; Acc -99; Acc 1; Jump -4; Acc 6|]"
     },
     "execution_count": 1,
     "metadata": {}
    }
   ]
  },
  {
   "cell_type": "code",
   "execution_count": 1,
   "metadata": {},
   "source": [
    "#!fsharp\n",
    "type State = \n",
    "  {\n",
    "    Head: int\n",
    "    Acc: int\n",
    "    Visited: int Set\n",
    "  }\n",
    "\n",
    "type MachineState =\n",
    "  | Running of State\n",
    "  | Looping of State\n",
    "  | Error of int\n",
    "  | Halted of int\n",
    "\n",
    "let initialState = Running { Head = 0; Acc = 0; Visited = Set.empty }\n",
    "let runProgram (program: Instruction array) = \n",
    "  let setNextHead state i = { state with Head = state.Head + i; Visited = state.Visited.Add state.Head }\n",
    "  let runInstruction = function\n",
    "    | Running { Head = head; Acc = acc } when head = program.Length -> Halted acc |> Some\n",
    "    | Running { Head = head } when head > program.Length || head < 0 -> Error head |> Some\n",
    "    | Running ({ Head = head; Visited = visited } as state) when visited |> Set.contains head -> Looping state |> Some\n",
    "    | Running ({ Head = head; Acc = acc; Visited = visited } as state) ->\n",
    "      let next = \n",
    "        match program.[head] with \n",
    "        | NoOp _ -> setNextHead state 1\n",
    "        | Acc i -> setNextHead { state with Acc = acc + i } 1\n",
    "        | Jump i -> setNextHead state i\n",
    "      next |> Running |> Some\n",
    "    | _ -> None\n",
    "  initialState |> Seq.unfold (runInstruction >> Option.map (fun x -> (x,x)))\n",
    "\n",
    "runProgram exampleProgram \n",
    "|> Seq.last \n",
    "|> printf \"Example program finishes execution with state %A\"\n",
    "\n",
    "runProgram fullProgram \n",
    "|> Seq.last\n",
    "|> printf \"Full program finishes execution with state %A\""
   ],
   "outputs": [
    {
     "output_type": "execute_result",
     "data": {
      "text/plain": "Example program finishes execution with state "
     },
     "execution_count": 1,
     "metadata": {}
    },
    {
     "output_type": "execute_result",
     "data": {
      "text/plain": "Looping { Head = 1\n          Acc = 5\n          Visited = set [0; 1; 2; 3; 4; 6; 7] }"
     },
     "execution_count": 1,
     "metadata": {}
    },
    {
     "output_type": "execute_result",
     "data": {
      "text/plain": "Full program finishes execution with state "
     },
     "execution_count": 1,
     "metadata": {}
    },
    {
     "output_type": "execute_result",
     "data": {
      "text/plain": "Looping { Head = 336\n          Acc = 1610\n          Visited = set [0; 1; 2; 3; 4; 28; 29; 30; 31; ...] }"
     },
     "execution_count": 1,
     "metadata": {}
    }
   ]
  },
  {
   "cell_type": "code",
   "execution_count": 1,
   "metadata": {},
   "source": [
    "#!fsharp\n",
    "let flipInstruction = function\n",
    "  | Jump i -> NoOp i\n",
    "  | NoOp i -> Jump i\n",
    "  | x -> x\n",
    "\n",
    "let flipInstructionAt i = Array.mapi (fun j -> if j = i then flipInstruction else id)\n",
    "\n",
    "Seq.init fullProgram.Length id\n",
    "|> Seq.map (fun i -> \n",
    "  fullProgram\n",
    "  |> flipInstructionAt i\n",
    "  |> runProgram\n",
    "  |> Seq.last\n",
    ")\n",
    "|> Seq.indexed\n",
    "|> Seq.pick (function \n",
    "  | i, (Halted _ as haltState) -> Some $\"Flipping instruction '%i{i}: %A{fullProgram.[i]}' allows program to successfully finish with state %A{haltState}\" \n",
    "  | _ -> None)"
   ],
   "outputs": [
    {
     "output_type": "execute_result",
     "data": {
      "text/plain": "Flipping instruction '188: Jump -55' allows program to successfully finish with state Halted 1703"
     },
     "execution_count": 1,
     "metadata": {}
    }
   ]
  }
 ],
 "metadata": {
  "kernelspec": {
   "display_name": ".NET (C#)",
   "language": "C#",
   "name": ".net-csharp"
  },
  "language_info": {
   "file_extension": ".cs",
   "mimetype": "text/x-csharp",
   "name": "C#",
   "pygments_lexer": "csharp",
   "version": "8.0"
  }
 },
 "nbformat": 4,
 "nbformat_minor": 4
}