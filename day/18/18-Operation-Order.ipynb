{
 "cells": [
  {
   "cell_type": "code",
   "execution_count": 1,
   "metadata": {},
   "source": [
    "#!fsharp\n",
    "#!value --from-file input.txt --name input"
   ],
   "outputs": []
  },
  {
   "cell_type": "code",
   "execution_count": 1,
   "metadata": {},
   "source": [
    "#!fsharp\n",
    "#!share input --from value\n",
    "let lines = input.Trim().Split('\\n')"
   ],
   "outputs": []
  },
  {
   "cell_type": "code",
   "execution_count": 1,
   "metadata": {},
   "source": [
    "#!fsharp\n",
    "type Operator = Add | Mul with \n",
    "  member this.Apply = \n",
    "    match this with\n",
    "    | Add -> (+)\n",
    "    | Mul -> (*)\n",
    "\n",
    "type Parenthesis = Left | Right\n",
    "\n",
    "type Token =\n",
    "  | Literal of int64\n",
    "  | Op of Operator\n",
    "  | Paren of Parenthesis\n",
    "\n",
    "let (|Int|_|) n = \n",
    "  try n |> string |> int64 |> Some with _ -> None\n",
    "\n",
    "let tokenize = \n",
    "  Seq.choose (\n",
    "    function\n",
    "    | '*' -> Op Mul |> Some\n",
    "    | '+' -> Op Add |> Some\n",
    "    | '(' -> Paren Left |> Some\n",
    "    | ')' -> Paren Right |> Some\n",
    "    | Int i -> Literal i |> Some\n",
    "    | _ -> None\n",
    "  ) >> Seq.toList\n",
    "\n",
    "let splitWhile f list =\n",
    "  match List.tryFindIndex (not << f) list with\n",
    "  | Some i -> List.take i list, List.skip i list\n",
    "  | None -> list, []\n",
    "\n",
    "let evaluate precedence exp = \n",
    "  let rec shunt opStack tokens = \n",
    "    match (tokens, opStack) with\n",
    "    | Op o as op :: rest , ops::more -> \n",
    "      let (popped, remaining) = ops |> splitWhile (fun c -> precedence c >= precedence o) \n",
    "      List.map Op popped @ shunt ((o::remaining)::more) rest\n",
    "    | Paren Left :: rest, stack -> shunt ([]::stack) rest\n",
    "    | Paren Right :: rest, ops::stack -> List.map Op ops @ shunt stack rest\n",
    "    | n :: rest , stack -> n::(shunt stack rest)\n",
    "    | [], stack -> List.collect (List.map Op) stack\n",
    "  let rec evalRPN stack tokens =\n",
    "    match (tokens, stack) with\n",
    "    | Op o::t, i::j::r -> evalRPN (o.Apply i j::r) t \n",
    "    | Literal i :: t, s -> evalRPN (i::s) t\n",
    "    | [], [i] -> i\n",
    "    | e -> failwith <| sprintf \"%A\" e\n",
    "\n",
    "  exp\n",
    "  |> tokenize\n",
    "  |> shunt [[]]\n",
    "  |> evalRPN []\n",
    "\n",
    "lines |> Seq.sumBy (evaluate (fun _ -> 0)) |> printf \"With no precedence: %i\"\n",
    "lines |> Seq.sumBy (evaluate (function Add -> 1 | Mul -> 0)) |> printf \"With + > * precedence: %i\"\n",
    "\n",
    ""
   ],
   "outputs": [
    {
     "output_type": "execute_result",
     "data": {
      "text/plain": "With no precedence: "
     },
     "execution_count": 1,
     "metadata": {}
    },
    {
     "output_type": "execute_result",
     "data": {
      "text/plain": "1402255785165"
     },
     "execution_count": 1,
     "metadata": {}
    },
    {
     "output_type": "execute_result",
     "data": {
      "text/plain": "With + > * precedence: "
     },
     "execution_count": 1,
     "metadata": {}
    },
    {
     "output_type": "execute_result",
     "data": {
      "text/plain": "119224703255966"
     },
     "execution_count": 1,
     "metadata": {}
    }
   ]
  }
 ],
 "metadata": {
  "kernelspec": {
   "display_name": ".NET (C#)",
   "language": "C#",
   "name": ".net-csharp"
  },
  "language_info": {
   "file_extension": ".cs",
   "mimetype": "text/x-csharp",
   "name": "C#",
   "pygments_lexer": "csharp",
   "version": "8.0"
  }
 },
 "nbformat": 4,
 "nbformat_minor": 4
}