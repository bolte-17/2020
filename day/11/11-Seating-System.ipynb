{
 "cells": [
  {
   "cell_type": "code",
   "execution_count": 1,
   "metadata": {},
   "source": [
    "#!fsharp\n",
    "#!value --from-file input.txt --name input"
   ],
   "outputs": []
  },
  {
   "cell_type": "code",
   "execution_count": 1,
   "metadata": {},
   "source": [
    "#!fsharp\n",
    "#!share input --from value\n",
    "input\n",
    "\n",
    "let parse (str:string) =\n",
    "  str.Trim().Split() |> array2D\n",
    "\n",
    "let seatMap = parse input\n",
    "\n",
    "let neighbors array x y =\n",
    "  seq {\n",
    "    for i in (max 0 (x-1))..(min (Array2D.length1 array - 1) (x+1)) do\n",
    "      for j in (max 0 (y-1))..(min (Array2D.length2 array - 1) (y+1)) do\n",
    "        if i <> x || j <> y then \n",
    "          yield array.[i,j]\n",
    "  }\n",
    "\n",
    "let nextGen array x y =\n",
    "  match Array2D.get array x y with\n",
    "  | 'L' when neighbors array x y |> Seq.forall ((<>) '#') -> '#'\n",
    "  | '#' when (neighbors array x y |> Seq.filter ((=) '#') |> Seq.length) >= 4 -> 'L'\n",
    "  | x -> x\n",
    "\n",
    "let evolve f array =\n",
    "  array |> Array2D.mapi (fun x y _ -> f array x y)\n",
    "\n",
    "let evolveFully f = \n",
    "  Seq.unfold (fun s -> \n",
    "    let next = evolve f s\n",
    "    if s = next then None else Some (next, next)\n",
    "  ) >> Seq.last\n",
    "\n",
    "let countAll c =\n",
    "  Seq.cast<char> \n",
    "  >> Seq.filter ((=) c)\n",
    "  >> Seq.length\n",
    "\n",
    "let example = \"\"\"L.LL.LL.LL\n",
    "LLLLLLL.LL\n",
    "L.L.L..L..\n",
    "LLLL.LL.LL\n",
    "L.LL.LL.LL\n",
    "L.LLLLL.LL\n",
    "..L.L.....\n",
    "LLLLLLLLLL\n",
    "L.LLLLLL.L\n",
    "L.LLLLL.LL\"\"\"\n",
    "\n",
    "let exampleMap = example.Trim().Split() |> array2D\n",
    "\n",
    "seatMap\n",
    "|> evolveFully nextGen \n",
    "|> countAll '#'"
   ],
   "outputs": [
    {
     "output_type": "execute_result",
     "data": {
      "text/html": "<div class=\"dni-plaintext\">2412</div>"
     },
     "execution_count": 1,
     "metadata": {}
    }
   ]
  },
  {
   "cell_type": "code",
   "execution_count": 1,
   "metadata": {},
   "source": [
    "#!fsharp\n",
    "let visibleNeighbors array x y =\n",
    "  let rec firstSeat (i,j) a b = \n",
    "    let p, q = a + i, b + j\n",
    "    if p < 0 || q < 0 || p >= Array2D.length1 array || q >= Array2D.length2 array then '.' else\n",
    "    match array.[p, q] with\n",
    "    | '.' -> firstSeat (i,j) p q\n",
    "    | x -> x\n",
    "  seq {\n",
    "    for i in -1..1 do\n",
    "      for j in -1..1 do\n",
    "        if i <> 0 || j <> 0 then \n",
    "          yield firstSeat (i,j) x y\n",
    "  }\n",
    "\n",
    "let nextGen2 array x y =\n",
    "  match Array2D.get array x y with\n",
    "  | 'L' when visibleNeighbors array x y |> Seq.forall ((<>) '#') -> '#'\n",
    "  | '#' when (visibleNeighbors array x y |> Seq.filter ((=) '#') |> Seq.length) >= 5 -> 'L'\n",
    "  | x -> x\n",
    "\n",
    "seatMap\n",
    "|> evolveFully nextGen2\n",
    "|> countAll '#'\n",
    ""
   ],
   "outputs": [
    {
     "output_type": "execute_result",
     "data": {
      "text/html": "<div class=\"dni-plaintext\">2176</div>"
     },
     "execution_count": 1,
     "metadata": {}
    }
   ]
  }
 ],
 "metadata": {
  "kernelspec": {
   "display_name": ".NET (C#)",
   "language": "C#",
   "name": ".net-csharp"
  },
  "language_info": {
   "file_extension": ".cs",
   "mimetype": "text/x-csharp",
   "name": "C#",
   "pygments_lexer": "csharp",
   "version": "8.0"
  }
 },
 "nbformat": 4,
 "nbformat_minor": 4
}