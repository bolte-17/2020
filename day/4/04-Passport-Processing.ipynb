{
 "cells": [
  {
   "cell_type": "code",
   "execution_count": 1,
   "metadata": {},
   "source": [
    "#!fsharp\n",
    "#!value --from-file input.txt --name input"
   ],
   "outputs": []
  },
  {
   "cell_type": "code",
   "execution_count": 1,
   "metadata": {},
   "source": [
    "#!fsharp\n",
    "#!share input --from value\n",
    "\n",
    "let parseRecords (records: string) = \n",
    "  records.Split(\"\\n\\n\", System.StringSplitOptions.RemoveEmptyEntries)\n",
    "  |> Seq.map (fun s -> \n",
    "    s.Split([|'\\n'; ' '|], System.StringSplitOptions.RemoveEmptyEntries)\n",
    "    |> Seq.map ((fun x -> x.Split(':')) >> function [|a ; b|] -> a,b | e -> failwith <| sprintf \"%A\" e)\n",
    "    |> Map.ofSeq\n",
    "  ) |> List.ofSeq\n",
    "\n",
    "let passportRecords = parseRecords input\n",
    "  \n",
    "\n",
    "passportRecords"
   ],
   "outputs": [
    {
     "output_type": "execute_result",
     "data": {
      "text/html": "<table><thead><tr><th><i>index</i></th><th>value</th></tr></thead><tbody><tr><td>0</td><td><div class=\"dni-plaintext\">[ [byr, 1926], [cid, 61], [ecl, hzl], [eyr, 2021], [hcl, #7d3b0c], [hgt, 186cm], [iyr, 2010], [pid, 221225902] ]</div></td></tr><tr><td>1</td><td><div class=\"dni-plaintext\">[ [byr, 1926], [cid, 92], [ecl, blu], [eyr, 2020], [hcl, #efcc98], [hgt, 178], [iyr, 2010], [pid, 433543520] ]</div></td></tr><tr><td>2</td><td><div class=\"dni-plaintext\">[ [byr, 1946], [ecl, brn], [eyr, 2026], [hcl, #b6652a], [hgt, 158cm], [iyr, 2018], [pid, 822320101] ]</div></td></tr><tr><td>3</td><td><div class=\"dni-plaintext\">[ [byr, 2008], [ecl, grn], [eyr, 1937], [hcl, z], [hgt, 138], [iyr, 2010], [pid, 21019503] ]</div></td></tr><tr><td>4</td><td><div class=\"dni-plaintext\">[ [byr, 2018], [cid, 75], [ecl, #d06796], [eyr, 1990], [hcl, z], [hgt, 176in], [iyr, 2019], [pid, 153cm] ]</div></td></tr><tr><td>5</td><td><div class=\"dni-plaintext\">[ [byr, 1994], [cid, 80], [ecl, grn], [eyr, 2024], [hcl, #ceb3a1], [hgt, 176cm], [iyr, 2020], [pid, 665071929] ]</div></td></tr><tr><td>6</td><td><div class=\"dni-plaintext\">[ [byr, 1955], [cid, 280], [ecl, blu], [eyr, 2013], [hcl, #733820], [hgt, 155cm], [iyr, 2011], [pid, 2346820632] ]</div></td></tr><tr><td>7</td><td><div class=\"dni-plaintext\">[ [byr, 2015], [ecl, brn], [eyr, 2026], [hcl, #4a5917], [hgt, 61cm], [iyr, 2026], [pid, 4772651050] ]</div></td></tr><tr><td>8</td><td><div class=\"dni-plaintext\">[ [byr, 1974], [ecl, gry], [eyr, 2024], [hcl, #a97842], [hgt, 182cm], [iyr, 2019], [pid, 917294399] ]</div></td></tr><tr><td>9</td><td><div class=\"dni-plaintext\">[ [byr, 2026], [cid, 141], [ecl, #9c635c], [eyr, 1998], [hcl, z], [hgt, 175cm], [iyr, 2010], [pid, 830491851] ]</div></td></tr><tr><td>10</td><td><div class=\"dni-plaintext\">[ [byr, 1927], [ecl, gry], [eyr, 2025], [hcl, #7d3b0c], [hgt, 166cm], [iyr, 2011], [pid, 055176954] ]</div></td></tr><tr><td>11</td><td><div class=\"dni-plaintext\">[ [byr, 2008], [ecl, utc], [eyr, 1920], [hcl, #733820], [hgt, 66cm], [iyr, 2030], [pid, 159cm] ]</div></td></tr><tr><td>12</td><td><div class=\"dni-plaintext\">[ [byr, 1960], [cid, 117], [ecl, grn], [eyr, 2022], [hcl, #b6652a], [hgt, 157cm], [iyr, 2012], [pid, 027609878] ]</div></td></tr><tr><td>13</td><td><div class=\"dni-plaintext\">[ [byr, 1984], [cid, 259], [ecl, grn], [eyr, 1928], [hcl, c41681], [hgt, 71in], [iyr, 2025], [pid, 7190749793] ]</div></td></tr><tr><td>14</td><td><div class=\"dni-plaintext\">[ [byr, 1938], [cid, 52], [ecl, blu], [eyr, 2029], [hcl, #cfa07d], [hgt, 69in], [iyr, 2019], [pid, 141655389] ]</div></td></tr><tr><td>15</td><td><div class=\"dni-plaintext\">[ [byr, 1943], [ecl, gry], [eyr, 2020], [hcl, #623a2f], [hgt, 166cm], [iyr, 2011], [pid, 611660309] ]</div></td></tr><tr><td>16</td><td><div class=\"dni-plaintext\">[ [byr, 2000], [cid, 210], [ecl, xry], [eyr, 2022], [hcl, #a97842], [hgt, 190cm], [iyr, 2015], [pid, 728418346] ]</div></td></tr><tr><td>17</td><td><div class=\"dni-plaintext\">[ [byr, 1973], [cid, 58], [ecl, amb], [eyr, 2028], [hcl, #ff0ec8], [hgt, 155cm], [iyr, 2012], [pid, 740554599] ]</div></td></tr><tr><td>18</td><td><div class=\"dni-plaintext\">[ [byr, 1966], [ecl, oth], [eyr, 2021], [hcl, #fffffd], [hgt, 154cm], [iyr, 2016], [pid, 922938570] ]</div></td></tr><tr><td>19</td><td><div class=\"dni-plaintext\">[ [byr, 1929], [ecl, amb], [eyr, 2026], [hcl, #c3bbea], [hgt, 191cm], [iyr, 2019], [pid, 511876219] ]</div></td></tr><tr><td colspan=\"2\">(270 more)</td></tr></tbody></table>"
     },
     "execution_count": 1,
     "metadata": {}
    }
   ]
  },
  {
   "cell_type": "code",
   "execution_count": 1,
   "metadata": {},
   "source": [
    "#!fsharp\n",
    "let hasRequiredKeys (passportRecord: Map<string, string>) = \n",
    "  let requiredKeys = [\n",
    "    \"byr\";\n",
    "    \"iyr\";\n",
    "    \"eyr\";\n",
    "    \"hgt\";\n",
    "    \"hcl\";\n",
    "    \"ecl\";\n",
    "    \"pid\";\n",
    "    // \"cid\";\n",
    "  ]\n",
    "  requiredKeys |> List.forall passportRecord.ContainsKey\n",
    "\n",
    "passportRecords\n",
    "|> List.countBy hasRequiredKeys"
   ],
   "outputs": [
    {
     "output_type": "execute_result",
     "data": {
      "text/html": "<table><thead><tr><th><i>index</i></th><th>Item1</th><th>Item2</th></tr></thead><tbody><tr><td>0</td><td><div class=\"dni-plaintext\">True</div></td><td><div class=\"dni-plaintext\">237</div></td></tr><tr><td>1</td><td><div class=\"dni-plaintext\">False</div></td><td><div class=\"dni-plaintext\">53</div></td></tr></tbody></table>"
     },
     "execution_count": 1,
     "metadata": {}
    }
   ]
  },
  {
   "cell_type": "markdown",
   "metadata": {},
   "source": [
    "Rules about what values are valid for automatic validation:\n",
    "\n",
    "* byr (Birth Year) - four digits; at least 1920 and at most 2002.\n",
    "* iyr (Issue Year) - four digits; at least 2010 and at most 2020.\n",
    "* eyr (Expiration Year) - four digits; at least 2020 and at most 2030.\n",
    "* hgt (Height) - a number followed by either cm or in:\n",
    "* If cm, the number must be at least 150 and at most 193.\n",
    "* If in, the number must be at least 59 and at most 76.\n",
    "* hcl (Hair Color) - a # followed by exactly six characters 0-9 or a-f.\n",
    "* ecl (Eye Color) - exactly one of: amb blu brn gry grn hzl oth.\n",
    "* pid (Passport ID) - a nine-digit number, including leading zeroes.\n",
    "* cid (Country ID) - ignored, missing or not."
   ]
  },
  {
   "cell_type": "code",
   "execution_count": 1,
   "metadata": {},
   "source": [
    "#!fsharp\n",
    "open System.Text.RegularExpressions\n",
    "\n",
    "let (|Int|_|) s = \n",
    "    try \n",
    "        Some (int s)\n",
    "    with _ -> None\n",
    "\n",
    "let (|InRange|_|) min max =\n",
    "  function\n",
    "  | i when i >= min && i <= max -> Some i\n",
    "  | _ -> None\n",
    "\n",
    "let (|Match|_|) pattern s =\n",
    "  let m = Regex.Match(s, pattern)\n",
    "  if m.Success then Some(List.tail [ for g in m.Groups -> g.Value ])\n",
    "  else None\n",
    "\n",
    "type Height = Cm of int | Inches of int\n",
    "let (|Measure|_|) =\n",
    "  function\n",
    "  | \"cm\" -> Some Cm\n",
    "  | \"in\" -> Some Inches\n",
    "  | _ -> None\n",
    "\n",
    "let (|Height|_|) = \n",
    "  function\n",
    "  | Match @\"(\\d+)(cm|in)\" [Int i; Measure measure] -> Some (measure i)\n",
    "  | _ -> None\n",
    "\n",
    "let validate (passport: Map<string, string>) = \n",
    "  let errors = \n",
    "    [\n",
    "      (\"byr\", function Some (Int (InRange 1920 2002 _)) -> None | e -> Some e)\n",
    "      (\"iyr\", function Some (Int (InRange 2010 2020 _)) -> None | e -> Some e)\n",
    "      (\"eyr\", function Some (Int (InRange 2020 2030 _)) -> None | e -> Some e)\n",
    "      (\"hgt\", function Some (Height (Cm (InRange 150 193 _)) | Height (Inches (InRange 59 76 _))) -> None | e -> Some e)\n",
    "      (\"hcl\", function Some (Match \"#[0-9a-f]{6}\" _) -> None | e -> Some e)\n",
    "      (\"ecl\", function Some (\"amb\" | \"blu\" | \"brn\" | \"gry\" | \"grn\" | \"hzl\" | \"oth\") -> None | e -> Some e)\n",
    "      (\"pid\", function Some (Match @\"^\\d{9}$\" _) -> None | e -> Some e)\n",
    "    ] \n",
    "    |> List.choose (fun (key, validator) -> \n",
    "      passport \n",
    "      |> Map.tryFind key \n",
    "      |> validator \n",
    "      |> Option.map (function Some badValue -> (key, badValue) | None -> (key, \"<null>\")))\n",
    "  if (List.isEmpty errors) then Ok passport else Error errors\n",
    "\n",
    "let isOk = function Ok _ -> true | Error _ -> false  \n",
    ""
   ],
   "outputs": []
  },
  {
   "cell_type": "code",
   "execution_count": 1,
   "metadata": {},
   "source": [
    "#!fsharp\n",
    "let validations = passportRecords |> List.map validate\n",
    "\n",
    "validations |> List.countBy isOk"
   ],
   "outputs": [
    {
     "output_type": "execute_result",
     "data": {
      "text/html": "<table><thead><tr><th><i>index</i></th><th>Item1</th><th>Item2</th></tr></thead><tbody><tr><td>0</td><td><div class=\"dni-plaintext\">True</div></td><td><div class=\"dni-plaintext\">172</div></td></tr><tr><td>1</td><td><div class=\"dni-plaintext\">False</div></td><td><div class=\"dni-plaintext\">118</div></td></tr></tbody></table>"
     },
     "execution_count": 1,
     "metadata": {}
    }
   ]
  }
 ],
 "metadata": {
  "kernelspec": {
   "display_name": ".NET (C#)",
   "language": "C#",
   "name": ".net-csharp"
  },
  "language_info": {
   "file_extension": ".cs",
   "mimetype": "text/x-csharp",
   "name": "C#",
   "pygments_lexer": "csharp",
   "version": "8.0"
  }
 },
 "nbformat": 4,
 "nbformat_minor": 4
}