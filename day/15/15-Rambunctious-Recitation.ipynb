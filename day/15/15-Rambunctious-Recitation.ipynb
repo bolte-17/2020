{
 "cells": [
  {
   "cell_type": "code",
   "execution_count": 1,
   "metadata": {},
   "source": [
    "#!fsharp\n",
    "type State = Map<int, int> * int * int\n",
    "\n",
    "let initialize startingNumbers =\n",
    "  let history = \n",
    "    startingNumbers\n",
    "    |> Seq.rev |> Seq.skip 1 |> Seq.rev\n",
    "    |> Seq.indexed\n",
    "    |> Seq.map (fun (x,y) -> y,x)\n",
    "    |> Map.ofSeq\n",
    "  let foo:State = history, startingNumbers |> Seq.last, (startingNumbers |> Seq.length) - 1\n",
    "  foo\n",
    "\n",
    "let next (history, previous, currentTime) =\n",
    "  let age = \n",
    "    match history |> Map.tryFind previous with\n",
    "    | Some time -> currentTime - time\n",
    "    | None -> 0\n",
    "  Some (age, (Map.add previous currentTime history, age, currentTime + 1))\n",
    "\n",
    "let generateInfinite initial =\n",
    "  initialize initial\n",
    "  |> Seq.unfold next\n",
    "  |> Seq.append initial\n",
    "\n",
    "generateInfinite [0;3;6]\n",
    "|> Seq.take 10\n",
    "|> Seq.toList\n",
    "|> printf \"%A\"\n",
    "\n",
    "let nthItem n = Seq.item (n - 1)\n",
    "\n",
    "generateInfinite [0;3;6]\n",
    "|> nthItem 2020\n",
    "|> printf \"%i\""
   ],
   "outputs": [
    {
     "output_type": "error",
     "ename": "Error",
     "evalue": "System.OverflowException: Arithmetic operation resulted in an overflow.\n   at System.Linq.Enumerable.SelectIterator[TSource,TResult](IEnumerable`1 source, Func`3 selector)+MoveNext()\n   at Microsoft.DotNet.Interactive.Formatting.EnumerableExtensions.<TakeAndCountRemaining>g__CountRemaining|0_0[T](<>c__DisplayClass0_0`1& ) in F:\\workspace\\_work\\1\\s\\src\\Microsoft.DotNet.Interactive.Formatting\\EnumerableExtensions.cs:line 41\n   at Microsoft.DotNet.Interactive.Formatting.EnumerableExtensions.TakeAndCountRemaining[T](IEnumerable`1 source, Int32 count) in F:\\workspace\\_work\\1\\s\\src\\Microsoft.DotNet.Interactive.Formatting\\EnumerableExtensions.cs:line 25\n   at Microsoft.DotNet.Interactive.Formatting.HtmlFormatter`1.<>c__DisplayClass8_0.<CreateForAnyEnumerable>g__BuildTable|3(FormatContext context, T source, TextWriter writer) in F:\\workspace\\_work\\1\\s\\src\\Microsoft.DotNet.Interactive.Formatting\\HtmlFormatter{T}.cs:line 134\n   at Microsoft.DotNet.Interactive.Formatting.DefaultHtmlFormatterSet.<>c.<.cctor>b__2_11(FormatContext context, IEnumerable value, TextWriter writer) in F:\\workspace\\_work\\1\\s\\src\\Microsoft.DotNet.Interactive.Formatting\\DefaultHtmlFormatterSet.cs:line 153\n   at Microsoft.DotNet.Interactive.Formatting.Formatter.<>c__DisplayClass54_0.<TryInferPreferredFormatter>b__4(FormatContext context, Object obj, TextWriter writer) in F:\\workspace\\_work\\1\\s\\src\\Microsoft.DotNet.Interactive.Formatting\\Formatter.cs:line 540\n   at Microsoft.DotNet.Interactive.Formatting.AnonymousTypeFormatter`1.Format(FormatContext context, T instance, TextWriter writer) in F:\\workspace\\_work\\1\\s\\src\\Microsoft.DotNet.Interactive.Formatting\\AnonymousTypeFormatter{T}.cs:line 31\n   at Microsoft.DotNet.Interactive.Formatting.Formatter`1.FormatTo(FormatContext context, T obj, TextWriter writer, String mimeType) in F:\\workspace\\_work\\1\\s\\src\\Microsoft.DotNet.Interactive.Formatting\\Formatter{T}.cs:line 61\n   at Microsoft.DotNet.Interactive.Formatting.Formatter.FormatTo[T](T obj, FormatContext context, TextWriter writer, String mimeType) in F:\\workspace\\_work\\1\\s\\src\\Microsoft.DotNet.Interactive.Formatting\\Formatter.cs:line 280\n   at Microsoft.DotNet.Interactive.Formatting.Formatter.ToDisplayString(Object obj, String mimeType) in F:\\workspace\\_work\\1\\s\\src\\Microsoft.DotNet.Interactive.Formatting\\Formatter.cs:line 232\n   at Microsoft.DotNet.Interactive.FormattedValue.<>c__DisplayClass7_0.<FromObject>b__0(String mimeType) in F:\\workspace\\_work\\1\\s\\src\\Microsoft.DotNet.Interactive\\FormattedValue.cs:line 36\n   at System.Linq.Enumerable.SelectArrayIterator`2.ToArray()\n   at Microsoft.DotNet.Interactive.FormattedValue.FromObject(Object value) in F:\\workspace\\_work\\1\\s\\src\\Microsoft.DotNet.Interactive\\FormattedValue.cs:line 34\n   at <StartupCode$Microsoft-DotNet-Interactive-FSharp>.$FSharpKernel.clo@172-10.Invoke(Unit unitVar) in F:\\workspace\\_work\\1\\s\\src\\Microsoft.DotNet.Interactive.FSharp\\FSharpKernel.fs:line 191\n   at Microsoft.FSharp.Control.AsyncPrimitives.CallThenInvoke[T,TResult](AsyncActivation`1 ctxt, TResult result1, FSharpFunc`2 part2) in F:\\workspace\\_work\\1\\s\\src\\fsharp\\FSharp.Core\\async.fs:line 386\n   at Microsoft.FSharp.Control.Trampoline.Execute(FSharpFunc`2 firstAction) in F:\\workspace\\_work\\1\\s\\src\\fsharp\\FSharp.Core\\async.fs:line 104\n--- End of stack trace from previous location ---\n   at Microsoft.DotNet.Interactive.Kernel.HandleAsync(KernelCommand command, KernelInvocationContext context) in F:\\workspace\\_work\\1\\s\\src\\Microsoft.DotNet.Interactive\\Kernel.cs:line 280\n   at Microsoft.DotNet.Interactive.KernelCommandPipeline.<BuildPipeline>b__6_0(KernelCommand command, KernelInvocationContext context, KernelPipelineContinuation _) in F:\\workspace\\_work\\1\\s\\src\\Microsoft.DotNet.Interactive\\KernelCommandPipeline.cs:line 57\n   at Microsoft.DotNet.Interactive.KernelCommandPipeline.<>c__DisplayClass6_1.<<BuildPipeline>b__3>d.MoveNext() in F:\\workspace\\_work\\1\\s\\src\\Microsoft.DotNet.Interactive\\KernelCommandPipeline.cs:line 75\n--- End of stack trace from previous location ---\n   at Microsoft.DotNet.Interactive.CompositeKernel.LoadExtensions(KernelCommand command, KernelInvocationContext context, KernelPipelineContinuation next) in F:\\workspace\\_work\\1\\s\\src\\Microsoft.DotNet.Interactive\\CompositeKernel.cs:line 144\n   at Microsoft.DotNet.Interactive.KernelCommandPipeline.<>c__DisplayClass6_1.<<BuildPipeline>b__3>d.MoveNext() in F:\\workspace\\_work\\1\\s\\src\\Microsoft.DotNet.Interactive\\KernelCommandPipeline.cs:line 75\n--- End of stack trace from previous location ---\n   at Microsoft.DotNet.Interactive.Kernel.<AddDirectiveMiddlewareAndCommonCommandHandlers>b__20_0(KernelCommand originalCommand, KernelInvocationContext context, KernelPipelineContinuation next) in F:\\workspace\\_work\\1\\s\\src\\Microsoft.DotNet.Interactive\\Kernel.cs:line 107\n   at Microsoft.DotNet.Interactive.KernelCommandPipeline.<>c__DisplayClass6_1.<<BuildPipeline>b__3>d.MoveNext() in F:\\workspace\\_work\\1\\s\\src\\Microsoft.DotNet.Interactive\\KernelCommandPipeline.cs:line 75\n--- End of stack trace from previous location ---\n   at Microsoft.DotNet.Interactive.Kernel.SetKernel(KernelCommand command, KernelInvocationContext context, KernelPipelineContinuation next) in F:\\workspace\\_work\\1\\s\\src\\Microsoft.DotNet.Interactive\\Kernel.cs:line 200\n   at Microsoft.DotNet.Interactive.KernelCommandPipeline.<>c__DisplayClass6_0.<<BuildPipeline>g__Combine|2>d.MoveNext() in F:\\workspace\\_work\\1\\s\\src\\Microsoft.DotNet.Interactive\\KernelCommandPipeline.cs:line 76\n--- End of stack trace from previous location ---\n   at Microsoft.DotNet.Interactive.KernelCommandPipeline.<>c__DisplayClass6_0.<<BuildPipeline>g__Combine|2>d.MoveNext() in F:\\workspace\\_work\\1\\s\\src\\Microsoft.DotNet.Interactive\\KernelCommandPipeline.cs:line 76\n--- End of stack trace from previous location ---\n   at Microsoft.DotNet.Interactive.KernelCommandPipeline.<>c__DisplayClass6_0.<<BuildPipeline>g__Combine|2>d.MoveNext() in F:\\workspace\\_work\\1\\s\\src\\Microsoft.DotNet.Interactive\\KernelCommandPipeline.cs:line 76\n--- End of stack trace from previous location ---\n   at Microsoft.DotNet.Interactive.KernelCommandPipeline.SendAsync(KernelCommand command, KernelInvocationContext context) in F:\\workspace\\_work\\1\\s\\src\\Microsoft.DotNet.Interactive\\KernelCommandPipeline.cs:line 48",
     "traceback": []
    }
   ]
  },
  {
   "cell_type": "code",
   "execution_count": 1,
   "metadata": {},
   "source": [
    "#!fsharp\n",
    "let myInput = [15;5;1;4;7;0]\n",
    "generateInfinite myInput |> nthItem 2020"
   ],
   "outputs": [
    {
     "output_type": "execute_result",
     "data": {
      "text/html": "<div class=\"dni-plaintext\">1259</div>"
     },
     "execution_count": 1,
     "metadata": {}
    }
   ]
  },
  {
   "cell_type": "code",
   "execution_count": 1,
   "metadata": {},
   "source": [
    "#!fsharp\n",
    "generateInfinite myInput |> nthItem 30000000"
   ],
   "outputs": [
    {
     "output_type": "execute_result",
     "data": {
      "text/html": "<div class=\"dni-plaintext\">689</div>"
     },
     "execution_count": 1,
     "metadata": {}
    }
   ]
  }
 ],
 "metadata": {
  "kernelspec": {
   "display_name": ".NET (C#)",
   "language": "C#",
   "name": ".net-csharp"
  },
  "language_info": {
   "file_extension": ".cs",
   "mimetype": "text/x-csharp",
   "name": "C#",
   "pygments_lexer": "csharp",
   "version": "8.0"
  }
 },
 "nbformat": 4,
 "nbformat_minor": 4
}