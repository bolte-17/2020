{
 "cells": [
  {
   "cell_type": "markdown",
   "metadata": {},
   "source": [
    "# Day 7: Handy Haversacks\n",
    "\n",
    "Today, we're given a problem about bags within bags. _Lots_ of bags within bags.\n",
    "\n",
    "To begin with, we have a file of text, with each line containing a rule for how many bags of what colors are within a certain color  of bag.\n",
    "\n",
    "The example is:\n",
    "```\n",
    "light red bags contain 1 bright white bag, 2 muted yellow bags.\n",
    "dark orange bags contain 3 bright white bags, 4 muted yellow bags.\n",
    "bright white bags contain 1 shiny gold bag.\n",
    "muted yellow bags contain 2 shiny gold bags, 9 faded blue bags.\n",
    "shiny gold bags contain 1 dark olive bag, 2 vibrant plum bags.\n",
    "dark olive bags contain 3 faded blue bags, 4 dotted black bags.\n",
    "vibrant plum bags contain 5 faded blue bags, 6 dotted black bags.\n",
    "faded blue bags contain no other bags.\n",
    "dotted black bags contain no other bags.\n",
    "```\n",
    "\n",
    "To begin with, we'll need to parse our input into something we can get more of a handle on programatically."
   ]
  },
  {
   "cell_type": "code",
   "execution_count": 1,
   "metadata": {},
   "source": [
    "#!fsharp\n",
    "type Bag = Bag of string\n",
    "let (|Bag|_|) = function\n",
    "  | color1 :: color2 :: (\"bag\" | \"bags\") :: rest -> Some (Bag.Bag $\"{color1} {color2}\", rest)\n",
    "  | _ -> None\n",
    "\n",
    "let (|Int|_|) (s:string) = \n",
    "  try s |> int |> Some with _ -> None\n",
    "\n",
    "let rec (|BagContents|_|) = function\n",
    "    | Int i :: Bag (bag, BagContents rest) -> Some ((bag, i) :: rest)\n",
    "    | [\"no\"; \"other\"; \"bags\"] | [] -> Some []\n",
    "    | _ -> None\n",
    "\n",
    "let parseRule (line:string) =\n",
    "  match line.Split([|' '; ','; '.'|], System.StringSplitOptions.RemoveEmptyEntries) |> Array.toList with\n",
    "  | Bag (bag, \"contain\" :: BagContents contents) -> (bag, contents)\n",
    "  | e -> failwith <| String.Join (' ', e)\n",
    "\n",
    "let parseRules (inp:string) = \n",
    "  inp.Split('\\n', System.StringSplitOptions.RemoveEmptyEntries)\n",
    "  |> Array.map parseRule\n",
    "  |> Map.ofArray\n",
    "\n",
    "let exampleRules = @\"light red bags contain 1 bright white bag, 2 muted yellow bags.\n",
    "dark orange bags contain 3 bright white bags, 4 muted yellow bags.\n",
    "bright white bags contain 1 shiny gold bag.\n",
    "muted yellow bags contain 2 shiny gold bags, 9 faded blue bags.\n",
    "shiny gold bags contain 1 dark olive bag, 2 vibrant plum bags.\n",
    "dark olive bags contain 3 faded blue bags, 4 dotted black bags.\n",
    "vibrant plum bags contain 5 faded blue bags, 6 dotted black bags.\n",
    "faded blue bags contain no other bags.\n",
    "dotted black bags contain no other bags.\" |> parseRules\n",
    "exampleRules"
   ],
   "outputs": [
    {
     "output_type": "execute_result",
     "data": {
      "text/html": "<table><thead><tr><th><i>key</i></th><th>value</th></tr></thead><tbody><tr><td><div class=\"dni-plaintext\">Bag &quot;bright white&quot;</div></td><td><div class=\"dni-plaintext\">[ ( Bag &quot;shiny gold&quot;, 1 ) ]</div></td></tr><tr><td><div class=\"dni-plaintext\">Bag &quot;dark olive&quot;</div></td><td><div class=\"dni-plaintext\">[ ( Bag &quot;faded blue&quot;, 3 ), ( Bag &quot;dotted black&quot;, 4 ) ]</div></td></tr><tr><td><div class=\"dni-plaintext\">Bag &quot;dark orange&quot;</div></td><td><div class=\"dni-plaintext\">[ ( Bag &quot;bright white&quot;, 3 ), ( Bag &quot;muted yellow&quot;, 4 ) ]</div></td></tr><tr><td><div class=\"dni-plaintext\">Bag &quot;dotted black&quot;</div></td><td><div class=\"dni-plaintext\">[  ]</div></td></tr><tr><td><div class=\"dni-plaintext\">Bag &quot;faded blue&quot;</div></td><td><div class=\"dni-plaintext\">[  ]</div></td></tr><tr><td><div class=\"dni-plaintext\">Bag &quot;light red&quot;</div></td><td><div class=\"dni-plaintext\">[ ( Bag &quot;bright white&quot;, 1 ), ( Bag &quot;muted yellow&quot;, 2 ) ]</div></td></tr><tr><td><div class=\"dni-plaintext\">Bag &quot;muted yellow&quot;</div></td><td><div class=\"dni-plaintext\">[ ( Bag &quot;shiny gold&quot;, 2 ), ( Bag &quot;faded blue&quot;, 9 ) ]</div></td></tr><tr><td><div class=\"dni-plaintext\">Bag &quot;shiny gold&quot;</div></td><td><div class=\"dni-plaintext\">[ ( Bag &quot;dark olive&quot;, 1 ), ( Bag &quot;vibrant plum&quot;, 2 ) ]</div></td></tr><tr><td><div class=\"dni-plaintext\">Bag &quot;vibrant plum&quot;</div></td><td><div class=\"dni-plaintext\">[ ( Bag &quot;faded blue&quot;, 5 ), ( Bag &quot;dotted black&quot;, 6 ) ]</div></td></tr></tbody></table>"
     },
     "execution_count": 1,
     "metadata": {}
    }
   ]
  },
  {
   "cell_type": "markdown",
   "metadata": {},
   "source": [
    "The first question we're asked is: `\"How many colors can, eventually, contain at least one shiny gold bag?`"
   ]
  },
  {
   "cell_type": "code",
   "execution_count": 1,
   "metadata": {},
   "source": [
    "#!fsharp\n",
    "let allContaining target rules =\n",
    "  let lookup = (rules |> Map.map (fun _ v -> v |> Seq.map fst |> Set.ofSeq)) \n",
    "  let rec containsDeep value key = \n",
    "    match Map.find key lookup with\n",
    "    | contents when contents |> Set.isEmpty -> false\n",
    "    | contents when contents |> Set.contains value -> true\n",
    "    | contents -> contents |> Set.exists (containsDeep value)\n",
    "  rules |> Map.toSeq |> Seq.map fst |> Seq.filter (containsDeep target)\n",
    "\n",
    "exampleRules |> allContaining (Bag (\"shiny gold\"))"
   ],
   "outputs": [
    {
     "output_type": "execute_result",
     "data": {
      "text/html": "<table><thead><tr><th><i>index</i></th><th>Item</th></tr></thead><tbody><tr><td>0</td><td><div class=\"dni-plaintext\">bright white</div></td></tr><tr><td>1</td><td><div class=\"dni-plaintext\">dark orange</div></td></tr><tr><td>2</td><td><div class=\"dni-plaintext\">light red</div></td></tr><tr><td>3</td><td><div class=\"dni-plaintext\">muted yellow</div></td></tr></tbody></table>"
     },
     "execution_count": 1,
     "metadata": {}
    }
   ]
  },
  {
   "cell_type": "markdown",
   "metadata": {},
   "source": [
    "That's the correct list according to the example. Now to run it on the (much larger) input file:  "
   ]
  },
  {
   "cell_type": "code",
   "execution_count": 1,
   "metadata": {},
   "source": [
    "#!fsharp\n",
    "#!value --from-file input.txt --name input"
   ],
   "outputs": []
  },
  {
   "cell_type": "code",
   "execution_count": 1,
   "metadata": {},
   "source": [
    "#!fsharp\n",
    "#!share input --from value\n",
    "let fullRules = parseRules input\n",
    "fullRules |> allContaining (Bag \"shiny gold\") |> Seq.length"
   ],
   "outputs": [
    {
     "output_type": "execute_result",
     "data": {
      "text/html": "<div class=\"dni-plaintext\">112</div>"
     },
     "execution_count": 1,
     "metadata": {}
    }
   ]
  },
  {
   "cell_type": "markdown",
   "metadata": {},
   "source": [
    "The second question is `How many individual bags are required inside your single shiny gold bag?`"
   ]
  },
  {
   "cell_type": "code",
   "execution_count": 1,
   "metadata": {},
   "source": [
    "#!fsharp\n",
    "let rec countContents bag rules =\n",
    "  match Map.find bag rules with\n",
    "  | [] -> 0\n",
    "  | contents -> contents |> List.sumBy (fun (b,i) -> i * (1 + countContents b rules))\n",
    "\n",
    "\"\"\"shiny gold bags contain 2 dark red bags.\n",
    "dark red bags contain 2 dark orange bags.\n",
    "dark orange bags contain 2 dark yellow bags.\n",
    "dark yellow bags contain 2 dark green bags.\n",
    "dark green bags contain 2 dark blue bags.\n",
    "dark blue bags contain 2 dark violet bags.\n",
    "dark violet bags contain no other bags.\"\"\" |> parseRules |> countContents (Bag \"shiny gold\")"
   ],
   "outputs": [
    {
     "output_type": "execute_result",
     "data": {
      "text/html": "<div class=\"dni-plaintext\">126</div>"
     },
     "execution_count": 1,
     "metadata": {}
    }
   ]
  },
  {
   "cell_type": "code",
   "execution_count": 1,
   "metadata": {},
   "source": [
    "#!fsharp\n",
    "fullRules |> countContents (Bag \"shiny gold\")"
   ],
   "outputs": [
    {
     "output_type": "execute_result",
     "data": {
      "text/html": "<div class=\"dni-plaintext\">6260</div>"
     },
     "execution_count": 1,
     "metadata": {}
    }
   ]
  }
 ],
 "metadata": {
  "kernelspec": {
   "display_name": ".NET (C#)",
   "language": "C#",
   "name": ".net-csharp"
  },
  "language_info": {
   "file_extension": ".cs",
   "mimetype": "text/x-csharp",
   "name": "C#",
   "pygments_lexer": "csharp",
   "version": "8.0"
  }
 },
 "nbformat": 4,
 "nbformat_minor": 4
}