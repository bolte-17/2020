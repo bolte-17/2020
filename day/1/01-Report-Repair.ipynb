{
 "cells": [
  {
   "cell_type": "markdown",
   "metadata": {},
   "source": [
    "# Day 1: Report Repair\n",
    "\n",
    "## Part 1: Find the two values in the input that sum to 2020 and then multiply those two numbers together.\n",
    "\n",
    "Nice and easy start to everything. Which is good, since we've got some new toys in the environment I'm using this time around and it took some getting used to.\n",
    "\n",
    "Need to get the input to start with. We'll save the input file to the repository to make things easy.\n",
    "\n",
    "Loading the data from file is especially easy in these interactive notebooks. First we load the file into memory with the `#!value` magic command:"
   ]
  },
  {
   "cell_type": "code",
   "execution_count": 1,
   "metadata": {},
   "source": [
    "#!fsharp\n",
    "#!value --from-file input.txt --name input"
   ],
   "outputs": []
  },
  {
   "cell_type": "markdown",
   "metadata": {},
   "source": [
    "Then we can pull it out into whatever language we want with `#!share`:"
   ]
  },
  {
   "cell_type": "code",
   "execution_count": 1,
   "metadata": {},
   "source": [
    "#!fsharp\n",
    "#!share --from value input\n",
    "input.[..39]"
   ],
   "outputs": [
    {
     "output_type": "execute_result",
     "data": {
      "text/plain": "1899\n1358\n1824\n1541\n1801\n1950\n1441\n1848\n"
     },
     "execution_count": 1,
     "metadata": {}
    }
   ]
  },
  {
   "cell_type": "markdown",
   "metadata": {},
   "source": [
    "Let's get this data into a better format to work with. Split up the lines, parse into `int`s since we're doing arithmatic, and I'm suspecting `Set` operations are going to be useful."
   ]
  },
  {
   "cell_type": "code",
   "execution_count": 1,
   "metadata": {},
   "source": [
    "#!fsharp\n",
    "let data =\n",
    "    input.Split('\\n', System.StringSplitOptions.RemoveEmptyEntries)\n",
    "    |> Seq.map int\n",
    "    |> Set.ofSeq\n",
    "printf \"%A\" data"
   ],
   "outputs": [
    {
     "output_type": "execute_result",
     "data": {
      "text/plain": "set [43; 319; 527; 989; 1023; 1028; 1032; 1038; 1042; ...]"
     },
     "execution_count": 1,
     "metadata": {}
    }
   ]
  },
  {
   "cell_type": "markdown",
   "metadata": {},
   "source": [
    "We can use the nice O(1) `Set.Contains` to find the first element that produces the sum we want. "
   ]
  },
  {
   "cell_type": "code",
   "execution_count": 1,
   "metadata": {},
   "source": [
    "#!fsharp\n",
    "let tryFindPair (numbers: int Set) targetSum =\n",
    "    numbers \n",
    "    |> Seq.map (fun x -> (x, targetSum - x))\n",
    "    |> Seq.filter ((<||) (<>))\n",
    "    |> Seq.tryFind (snd >> numbers.Contains)\n",
    "\n",
    "match tryFindPair data 2020 with\n",
    "| Some (a, b) -> $\"{a} * {b} = {a * b}\"\n",
    "| None -> \"No pair found\""
   ],
   "outputs": [
    {
     "output_type": "execute_result",
     "data": {
      "text/plain": "319 * 1701 = 542619"
     },
     "execution_count": 1,
     "metadata": {}
    }
   ]
  },
  {
   "cell_type": "markdown",
   "metadata": {},
   "source": [
    "## Part 2: Find the three values in the input that sum to 2020 and then multiply those two numbers together.\n",
    "\n",
    "Is this a more limited version of knapsack-packing? While that would usually make me want to go for a dynamic programming thing, since it's only searching for precisely 3 numbers it's probably just fine to just iterate on the Part 1 solution.\n",
    ""
   ]
  },
  {
   "cell_type": "code",
   "execution_count": 1,
   "metadata": {},
   "source": [
    "#!fsharp\n",
    "let tryFindTriple (numbers: int Set) (targetSum:int) =\n",
    "    numbers \n",
    "    |> Seq.tryPick (fun x -> \n",
    "        tryFindPair numbers (targetSum - x) \n",
    "        |> Option.map (fun (y,z) -> (x,y,z))\n",
    "    )\n",
    "\n",
    "match tryFindTriple data 2020 with\n",
    "| Some (x, y, z) -> $\"{x} * {y} * {z} = {x * y * z}\"\n",
    "| None -> \"No Triple Found\"\n",
    ""
   ],
   "outputs": [
    {
     "output_type": "execute_result",
     "data": {
      "text/plain": "43 * 527 * 1450 = 32858450"
     },
     "execution_count": 1,
     "metadata": {}
    }
   ]
  }
 ],
 "metadata": {
  "kernelspec": {
   "display_name": ".NET (C#)",
   "language": "C#",
   "name": ".net-csharp"
  },
  "language_info": {
   "file_extension": ".cs",
   "mimetype": "text/x-csharp",
   "name": "C#",
   "pygments_lexer": "csharp",
   "version": "8.0"
  }
 },
 "nbformat": 4,
 "nbformat_minor": 4
}