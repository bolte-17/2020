{
 "cells": [
  {
   "cell_type": "markdown",
   "metadata": {},
   "source": [
    "# Day 1: Report Repair\n",
    "\n",
    "## Part 1: Find the two values in the input that sum to 2020 and then multiply those two numbers together.\n",
    "\n",
    "Nice and easy start to everything. Which is good, since we've got some new toys in the environment I'm using this time around and it took some getting used to.\n",
    "\n",
    "Need to get the input to start with. Might just end up copying input files into the repository if that ends up being more sharable.\n",
    "\n",
    "Also probably could generalize this since we'll need it every day. Need to check on `#r`'ing local files in fsharp interactive."
   ]
  },
  {
   "cell_type": "code",
   "execution_count": 1,
   "metadata": {},
   "source": [
    "#!fsharp\n",
    "#r \"nuget: FSharp.Data\"\n",
    "open FSharp.Data\n",
    "\n",
    "let token = Environment.GetEnvironmentVariable \"AOC_SESSION_TOKEN\"\n",
    "let puzzleInput = \n",
    "    Http.RequestString(\"https://adventofcode.com/2020/day/1/input\", cookies = [(\"session\", token)])\n",
    "        .Split('\\n', StringSplitOptions.RemoveEmptyEntries)\n",
    "\n",
    "printf \"%A\" puzzleInput"
   ],
   "outputs": [
    {
     "output_type": "execute_result",
     "data": {
      "text/plain": "[|\"1899\"; \"1358\"; \"1824\"; \"1541\"; \"1801\"; \"1950\"; \"1441\"; \"1848\"; \"1259\"; \"1715\";\n  \"1222\"; \"1097\"; \"1127\"; \"1531\"; \"1330\"; \"1841\"; \"1662\"; \"1075\"; \"1631\"; \"1844\";\n  \"1209\"; \"1940\"; \"2006\"; \"1085\"; \"1615\"; \"1132\"; \"1345\"; \"1736\"; \"1885\"; \"1919\";\n  \"1995\"; \"1893\"; \"1464\"; \"1701\"; \"1373\"; \"1390\"; \"1717\"; \"1238\"; \"1707\"; \"1088\";\n  \"1566\"; \"1971\"; \"1804\"; \"1630\"; \"1920\"; \"1445\"; \"1948\"; \"1123\"; \"1917\"; \"1944\";\n  \"1448\"; \"1965\"; \"1118\"; \"1986\"; \"1498\"; \"1847\"; \"1730\"; \"1418\"; \"1771\"; \"1352\";\n  \"1207\"; \"1276\"; \"1716\"; \"1502\"; \"1922\"; \"1473\"; \"1528\"; \"1038\"; \"1228\"; \"1983\";\n  \"1746\"; \"1695\"; \"1698\"; \"1910\"; \"1283\"; \"1145\"; \"1967\"; \"1304\"; \"1651\"; \"1898\";\n  \"1450\"; \"1042\"; \"1051\"; \"1619\"; \"1505\"; \"1643\"; \"1136\"; \"1517\"; \"1907\"; \"1354\";\n  \"1960\"; \"1733\"; \"1769\"; \"1942\"; \"43\"; \"1743\"; \"1981\"; \"1711\"; \"1141\"; \"1169\";\n  ...|]"
     },
     "execution_count": 1,
     "metadata": {}
    }
   ]
  },
  {
   "cell_type": "markdown",
   "metadata": {},
   "source": [
    "All right, that's working. Nice.\n",
    "\n",
    "Let's get this data into a better format to work with. `int` since we're doing arithmatic, and I'm suspecting `Set` operations are going to be useful."
   ]
  },
  {
   "cell_type": "code",
   "execution_count": 1,
   "metadata": {},
   "source": [
    "#!fsharp\n",
    "let data =\n",
    "    puzzleInput\n",
    "    |> Seq.map int\n",
    "    |> Set.ofSeq\n",
    "printf \"%A\" data"
   ],
   "outputs": [
    {
     "output_type": "execute_result",
     "data": {
      "text/plain": "set [43; 319; 527; 989; 1023; 1028; 1032; 1038; 1042; ...]"
     },
     "execution_count": 1,
     "metadata": {}
    }
   ]
  },
  {
   "cell_type": "markdown",
   "metadata": {},
   "source": [
    "We can use the nice O(1) `Set.Contains` to find the first element that produces the sum we want. "
   ]
  },
  {
   "cell_type": "code",
   "execution_count": 1,
   "metadata": {},
   "source": [
    "#!fsharp\n",
    "let tryFindPair (numbers: int Set) targetSum =\n",
    "    numbers \n",
    "    |> Seq.map (fun x -> (x, targetSum - x))\n",
    "    |> Seq.filter ((<||) (<>))\n",
    "    |> Seq.tryFind (snd >> numbers.Contains)\n",
    "\n",
    "match tryFindPair data 2020 with\n",
    "| Some (a, b) -> $\"{a} * {b} = {a * b}\"\n",
    "| None -> \"No pair found\""
   ],
   "outputs": [
    {
     "output_type": "execute_result",
     "data": {
      "text/plain": "319 * 1701 = 542619"
     },
     "execution_count": 1,
     "metadata": {}
    }
   ]
  },
  {
   "cell_type": "markdown",
   "metadata": {},
   "source": [
    "## Part 2: Find the three values in the input that sum to 2020 and then multiply those two numbers together.\n",
    "\n",
    "Is this a more limited version of knapsack-packing? While that would usually make me want to go for a dynamic programming thing, since it's only searching for precisely 3 numbers it's probably just fine to just iterate on the Part 1 solution.\n",
    ""
   ]
  },
  {
   "cell_type": "code",
   "execution_count": 1,
   "metadata": {},
   "source": [
    "#!fsharp\n",
    "let tryFindTriple (numbers: int Set) (targetSum:int) =\n",
    "    numbers \n",
    "    |> Seq.tryPick (fun x -> \n",
    "        tryFindPair numbers (targetSum - x) \n",
    "        |> Option.map (fun (y,z) -> (x,y,z))\n",
    "    )\n",
    "\n",
    "match tryFindTriple data 2020 with\n",
    "| Some (x, y, z) -> $\"{x} * {y} * {z} = {x * y * z}\"\n",
    "| None -> \"No Triple Found\"\n",
    ""
   ],
   "outputs": [
    {
     "output_type": "execute_result",
     "data": {
      "text/plain": "43 * 527 * 1450 = 32858450"
     },
     "execution_count": 1,
     "metadata": {}
    }
   ]
  }
 ],
 "metadata": {
  "kernelspec": {
   "display_name": ".NET (C#)",
   "language": "C#",
   "name": ".net-csharp"
  },
  "language_info": {
   "file_extension": ".cs",
   "mimetype": "text/x-csharp",
   "name": "C#",
   "pygments_lexer": "csharp",
   "version": "8.0"
  }
 },
 "nbformat": 4,
 "nbformat_minor": 4
}