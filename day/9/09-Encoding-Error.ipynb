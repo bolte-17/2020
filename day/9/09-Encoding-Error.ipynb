{
 "cells": [
  {
   "cell_type": "markdown",
   "metadata": {},
   "source": [
    "# Day 9: Encoding Error\n",
    "\n",
    "Input file is a list of numbers. First 25 are the \"preamble\". Find first number in list after preamble that is not the sum of exactly two of the 25 immediately previous numbers."
   ]
  },
  {
   "cell_type": "code",
   "execution_count": 1,
   "metadata": {},
   "source": [
    "#!fsharp\n",
    "#!value --name input --from-file input.txt"
   ],
   "outputs": []
  },
  {
   "cell_type": "code",
   "execution_count": 1,
   "metadata": {},
   "source": [
    "#!fsharp\n",
    "#!share input --from value"
   ],
   "outputs": []
  },
  {
   "cell_type": "code",
   "execution_count": 1,
   "metadata": {},
   "source": [
    "#!fsharp\n",
    "let data = input.Trim().Split() |> Seq.map int64 |> Seq.toList\n",
    "\n",
    "let canPairSumTo sum nums =\n",
    "  let set = Set.ofSeq nums\n",
    "  nums |> Seq.exists (fun n -> Set.contains (sum - n) set) \n",
    "\n",
    "let invalidNumber =\n",
    "  data \n",
    "  |> Seq.windowed 25 \n",
    "  |> Seq.zip (data |> Seq.skip 25)\n",
    "  |> Seq.find ((<||) canPairSumTo >> not)\n",
    "  |> fst\n",
    "\n",
    "invalidNumber"
   ],
   "outputs": [
    {
     "output_type": "execute_result",
     "data": {
      "text/html": "<div class=\"dni-plaintext\">70639851</div>"
     },
     "execution_count": 1,
     "metadata": {}
    }
   ]
  },
  {
   "cell_type": "code",
   "execution_count": 1,
   "metadata": {},
   "source": [
    "#!fsharp\n",
    "let tryFindSubsequenceSum target list =\n",
    "  let rec foo (currentSum, currentList) remaining =\n",
    "    match currentList, remaining with\n",
    "    | _::_::_, _ when currentSum = target -> Some currentList\n",
    "    | i :: rest, _ when currentSum >= target -> foo (currentSum - i, rest) remaining\n",
    "    | _, i :: rest when currentSum < target -> foo (currentSum + i, currentList @ [i] ) rest\n",
    "    | _ -> None\n",
    "  foo (0L, []) list\n",
    "\n",
    "let minMax lst = List.min lst, List.max lst\n",
    "let sumTuple = (<||) (+)\n",
    "\n",
    "tryFindSubsequenceSum invalidNumber data\n",
    "|> Option.map (minMax >> sumTuple)"
   ],
   "outputs": [
    {
     "output_type": "execute_result",
     "data": {
      "text/html": "<table><thead><tr><th>Value</th></tr></thead><tbody><tr><td><div class=\"dni-plaintext\">8249240</div></td></tr></tbody></table>"
     },
     "execution_count": 1,
     "metadata": {}
    }
   ]
  }
 ],
 "metadata": {
  "kernelspec": {
   "display_name": ".NET (C#)",
   "language": "C#",
   "name": ".net-csharp"
  },
  "language_info": {
   "file_extension": ".cs",
   "mimetype": "text/x-csharp",
   "name": "C#",
   "pygments_lexer": "csharp",
   "version": "8.0"
  }
 },
 "nbformat": 4,
 "nbformat_minor": 4
}