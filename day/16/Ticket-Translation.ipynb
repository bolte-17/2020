{
 "cells": [
  {
   "cell_type": "code",
   "execution_count": 1,
   "metadata": {},
   "source": [
    "#!fsharp\n",
    "#!value --from-file input.txt --name input"
   ],
   "outputs": []
  },
  {
   "cell_type": "code",
   "execution_count": 1,
   "metadata": {},
   "source": [
    "#!fsharp\n",
    "#!share input --from value\n",
    "\n",
    "type RangeSet =\n",
    "  | Range of int * int\n",
    "  | Union of RangeSet list\n",
    "\n",
    "let rec contains i = function\n",
    "  | Range (min, max) -> min <= i && i <= max\n",
    "  | Union ranges -> List.exists (contains i) ranges\n",
    "\n",
    "let containedIn range i = contains i range\n",
    "\n",
    "let parseRule (line:string) =\n",
    "  let [|fieldName; ranges|] = line.Split(\": \")\n",
    "  fieldName, Union [Range (int ranges.[0..1], int ranges.[3..5]); Range (int ranges.[10..12], int ranges.[14..16])]\n",
    "\n",
    "let (rules, ticket, nearbyTickets) = \n",
    "  match input.Trim().Split(\"\\n\\n\") with\n",
    "  | [| rules; ticket; nearby |] -> \n",
    "    (\n",
    "      rules.Split('\\n') |> Array.map parseRule, \n",
    "      ticket.Split('\\n').[1].Split(',') |> Array.map int, \n",
    "      nearby.Split('\\n').[1..] |> Array.map (fun s -> s.Split(',') |> Array.map int)\n",
    "    )\n",
    "  | _ -> failwith \"Bad Input\"\n",
    "\n",
    "let anyRuleRange = rules |> Seq.map snd |> Seq.toList |> Union\n",
    "\n",
    "nearbyTickets\n",
    "|> Seq.collect id\n",
    "|> Seq.filter (fun n -> not (contains n anyRuleRange))\n",
    "|> Seq.sum"
   ],
   "outputs": [
    {
     "output_type": "execute_result",
     "data": {
      "text/html": "<div class=\"dni-plaintext\">28882</div>"
     },
     "execution_count": 1,
     "metadata": {}
    }
   ]
  },
  {
   "cell_type": "code",
   "execution_count": 1,
   "metadata": {},
   "source": [
    "#!fsharp\n",
    "let validTickets =\n",
    "  nearbyTickets\n",
    "  |> Array.filter (fun ticket -> ticket |> Seq.forall (containedIn anyRuleRange))\n",
    "\n",
    "let matchingRules =\n",
    "  validTickets\n",
    "  |> Array.transpose \n",
    "  |> Array.map (fun vs -> \n",
    "    rules \n",
    "    |> Array.filter (fun r -> vs |> Seq.forall (containedIn (snd r))) \n",
    "    |> Array.map fst \n",
    "    |> set)\n",
    "  |> Array.indexed\n",
    "  |> set\n",
    "  \n",
    "let rec solve constraints =\n",
    "  if constraints |> Set.isEmpty then Some Map.empty else\n",
    "  let (i, possibleValues) as min = constraints |> Set.toSeq |> Seq.minBy (snd >> Set.count)\n",
    "  if possibleValues |> Set.isEmpty then None else\n",
    "  let remainingConstraints = constraints |> Set.remove min \n",
    "  possibleValues \n",
    "  |> Set.toSeq \n",
    "  |> Seq.tryPick (fun v -> \n",
    "    remainingConstraints\n",
    "    |> Set.map (fun (i, s) -> (i, Set.remove v s))\n",
    "    |> solve\n",
    "    |> Option.map (Map.add i v)\n",
    "  )\n",
    "\n",
    "let result = solve matchingRules\n",
    "\n",
    "result.Value\n",
    "|> Map.filter (fun i s -> s.StartsWith(\"departure\"))\n",
    "|> Map.toSeq\n",
    "|> Seq.map (fun (i,_) -> int64 ticket.[i])\n",
    "|> Seq.reduce (*)\n",
    ""
   ],
   "outputs": [
    {
     "output_type": "execute_result",
     "data": {
      "text/html": "<div class=\"dni-plaintext\">1429779530273</div>"
     },
     "execution_count": 1,
     "metadata": {}
    }
   ]
  }
 ],
 "metadata": {
  "kernelspec": {
   "display_name": ".NET (C#)",
   "language": "C#",
   "name": ".net-csharp"
  },
  "language_info": {
   "file_extension": ".cs",
   "mimetype": "text/x-csharp",
   "name": "C#",
   "pygments_lexer": "csharp",
   "version": "8.0"
  }
 },
 "nbformat": 4,
 "nbformat_minor": 4
}