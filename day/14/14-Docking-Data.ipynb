{
 "cells": [
  {
   "cell_type": "code",
   "execution_count": 1,
   "metadata": {},
   "source": [
    "#!fsharp\n",
    "#!value --from-file input.txt --name input"
   ],
   "outputs": []
  },
  {
   "cell_type": "code",
   "execution_count": 1,
   "metadata": {},
   "source": [
    "#!fsharp\n",
    "#!share input --from value\n",
    "\n",
    "type Instruction =\n",
    "  | Mask of string\n",
    "  | Mem of int64 * int64\n",
    "\n",
    "let parseInstruction (s:string) =\n",
    "  if s.StartsWith(\"mask = \") then\n",
    "    Mask s.[7..]\n",
    "  else\n",
    "    Mem (int64 s.[4..s.IndexOf(']')-1], int64 s.[s.IndexOf(\"= \")+2..])\n",
    "\n",
    "let example = \n",
    "  \"\"\"mask = XXXXXXXXXXXXXXXXXXXXXXXXXXXXX1XXXX0X\n",
    "mem[8] = 11\n",
    "mem[7] = 101\n",
    "mem[8] = 0\"\"\".Split('\\n') |> Seq.map parseInstruction \n",
    "\n",
    "let instructions =\n",
    "  input.Trim().Split('\\n') \n",
    "  |> Array.map parseInstruction\n",
    ""
   ],
   "outputs": []
  },
  {
   "cell_type": "code",
   "execution_count": 1,
   "metadata": {},
   "source": [
    "#!fsharp\n",
    "open System\n",
    "\n",
    "let binaryToLong s = Convert.ToInt64(s,2)\n",
    "\n",
    "let maskValues maskString =\n",
    "  let bitmask = \n",
    "    maskString\n",
    "    |> Seq.map (function '1' | '0' -> '0' | _ -> '1')\n",
    "    |> String.Concat\n",
    "    |> binaryToLong\n",
    "  let value = \n",
    "    maskString\n",
    "    |> Seq.map (function '1' -> '1' | _ -> '0')\n",
    "    |> String.Concat\n",
    "    |> binaryToLong\n",
    "  (bitmask, value)\n",
    "\n",
    "let applyMask (bitmask, value) i = i &&& bitmask ||| value  \n",
    "\n",
    "let runInstruction (memory, mask) = function\n",
    "  | Mask x -> (memory, maskValues x)\n",
    "  | Mem (addr, i) -> (memory |> Map.add addr (applyMask mask i), mask)\n",
    "\n",
    "instructions\n",
    "|> Seq.fold runInstruction (Map.empty, (0L, 0L))\n",
    "|> fst\n",
    "|> Map.toSeq\n",
    "|> Seq.map snd\n",
    "|> Seq.reduce (+)\n",
    ""
   ],
   "outputs": [
    {
     "output_type": "execute_result",
     "data": {
      "text/html": "<div class=\"dni-plaintext\">17934269678453</div>"
     },
     "execution_count": 1,
     "metadata": {}
    }
   ]
  },
  {
   "cell_type": "code",
   "execution_count": 1,
   "metadata": {},
   "source": [
    "#!fsharp\n",
    "let maskedAddresses (mask:string) address =\n",
    "  let ones = mask.Replace('X', '0') |> binaryToLong\n",
    "  let xs = mask |> Seq.map (function 'X' -> 0 | _ -> 1) |> String.Concat |> binaryToLong\n",
    "  let baseAddress = address &&& xs ||| ones\n",
    "  mask\n",
    "  |> Seq.rev\n",
    "  |> Seq.indexed\n",
    "  |> Seq.filter (snd >> (=) 'X')\n",
    "  |> Seq.map (fst >> ((<<<) 1L))\n",
    "  |> Seq.fold (fun addrs n -> addrs |> Set.map ((+) n) |> Set.union addrs) (Set.ofList [baseAddress])\n",
    "\n",
    "let runInstructionV2 (memory, mask) = function\n",
    "  | Mask m -> (memory, m)\n",
    "  | Mem (addr, i) -> (maskedAddresses mask addr |> Seq.fold (fun mem a -> Map.add a i mem) memory, mask)\n",
    "\n",
    "let example2 = \n",
    "  \"\"\"mask = 000000000000000000000000000000X1001X\n",
    "mem[42] = 100\n",
    "mask = 00000000000000000000000000000000X0XX\n",
    "mem[26] = 1\"\"\".Split('\\n') \n",
    "  |> Seq.map parseInstruction\n",
    "\n",
    "instructions\n",
    "|> Seq.fold runInstructionV2 (Map.empty, \"\") \n",
    "|> fst\n",
    "|> Map.toSeq \n",
    "|> Seq.map snd\n",
    "|> Seq.reduce (+)"
   ],
   "outputs": [
    {
     "output_type": "execute_result",
     "data": {
      "text/html": "<div class=\"dni-plaintext\">3440662844064</div>"
     },
     "execution_count": 1,
     "metadata": {}
    }
   ]
  }
 ],
 "metadata": {
  "kernelspec": {
   "display_name": ".NET (C#)",
   "language": "C#",
   "name": ".net-csharp"
  },
  "language_info": {
   "file_extension": ".cs",
   "mimetype": "text/x-csharp",
   "name": "C#",
   "pygments_lexer": "csharp",
   "version": "8.0"
  }
 },
 "nbformat": 4,
 "nbformat_minor": 4
}