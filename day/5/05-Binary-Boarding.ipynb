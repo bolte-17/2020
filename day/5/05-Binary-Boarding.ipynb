{
 "cells": [
  {
   "cell_type": "markdown",
   "metadata": {},
   "source": [
    "Hey look it's actually just binary."
   ]
  },
  {
   "cell_type": "code",
   "execution_count": 1,
   "metadata": {},
   "source": [
    "#!value --from-file input.txt --name input"
   ],
   "outputs": []
  },
  {
   "cell_type": "code",
   "execution_count": 1,
   "metadata": {},
   "source": [
    "#!fsharp\n",
    "let calcId boardingPass = \n",
    "  boardingPass \n",
    "  |> Seq.map (function 'B' | 'R' -> 1 | 'F' | 'L' -> 0 | e -> failwith $\"Bad Input '{e}'\") \n",
    "  |> Seq.reduce (fun x y -> 2 * x + y)\n",
    "\n",
    "[\"FBFBBFFRLR\"; \"BFFFBBFRRR\"; \"FFFBBBFRRR\"; \"BBFFBBFRLL\"] |> List.map calcId"
   ],
   "outputs": [
    {
     "output_type": "execute_result",
     "data": {
      "text/html": "<table><thead><tr><th><i>index</i></th><th>value</th></tr></thead><tbody><tr><td>0</td><td><div class=\"dni-plaintext\">357</div></td></tr><tr><td>1</td><td><div class=\"dni-plaintext\">567</div></td></tr><tr><td>2</td><td><div class=\"dni-plaintext\">119</div></td></tr><tr><td>3</td><td><div class=\"dni-plaintext\">820</div></td></tr></tbody></table>"
     },
     "execution_count": 1,
     "metadata": {}
    }
   ]
  },
  {
   "cell_type": "code",
   "execution_count": 1,
   "metadata": {},
   "source": [
    "#!fsharp\n",
    "#!share input --from value\n",
    "\n",
    "let ids = \n",
    "  input.Split('\\n', System.StringSplitOptions.RemoveEmptyEntries)\n",
    "  |> Seq.map calcId\n",
    "\n",
    "Seq.max ids"
   ],
   "outputs": [
    {
     "output_type": "execute_result",
     "data": {
      "text/html": "<div class=\"dni-plaintext\">963</div>"
     },
     "execution_count": 1,
     "metadata": {}
    }
   ]
  },
  {
   "cell_type": "code",
   "execution_count": 1,
   "metadata": {},
   "source": [
    "#!fsharp\n",
    "// O(n log n)\n",
    "ids \n",
    "|> Seq.sort \n",
    "|> Seq.pairwise \n",
    "|> Seq.pick (function (x, y) when y <> x + 1 -> x + 1 |> Some | _ -> None)\n",
    "|> printf \"%i\"\n",
    "\n",
    "// O(n) \n",
    "let idsSet = Set.ofSeq ids\n",
    "Seq.init (1 + Set.count idsSet) ((+) (Seq.min idsSet)) \n",
    "|> Seq.find (not << idsSet.Contains)  \n",
    "|> printf \"%i\"\n",
    ""
   ],
   "outputs": [
    {
     "output_type": "execute_result",
     "data": {
      "text/plain": "592"
     },
     "execution_count": 1,
     "metadata": {}
    },
    {
     "output_type": "execute_result",
     "data": {
      "text/plain": "592"
     },
     "execution_count": 1,
     "metadata": {}
    }
   ]
  }
 ],
 "metadata": {
  "kernelspec": {
   "display_name": ".NET (C#)",
   "language": "C#",
   "name": ".net-csharp"
  },
  "language_info": {
   "file_extension": ".cs",
   "mimetype": "text/x-csharp",
   "name": "C#",
   "pygments_lexer": "csharp",
   "version": "8.0"
  }
 },
 "nbformat": 4,
 "nbformat_minor": 4
}