{
 "cells": [
  {
   "cell_type": "code",
   "execution_count": 1,
   "metadata": {},
   "source": [
    "#!fsharp\n",
    "#!value --from-file input.txt --name input"
   ],
   "outputs": []
  },
  {
   "cell_type": "code",
   "execution_count": 1,
   "metadata": {},
   "source": [
    "#!fsharp\n",
    "#!share input --from value"
   ],
   "outputs": []
  },
  {
   "cell_type": "code",
   "execution_count": 1,
   "metadata": {},
   "source": [
    "#!fsharp\n",
    "let inline (.+) (x1, y1) (x2, y2) = (x1 + x2, y1 + y2)\n",
    "let inline (.*) m (x,y) = (m * x, m * y)\n",
    "\n",
    "[<Measure>] type degree;\n",
    "\n",
    "type Instruction =\n",
    "  | Absolute of int * int\n",
    "  | Rotation of int<degree>\n",
    "  | Forward of int\n",
    "\n",
    "let (|CardinalDirection|_|) = function\n",
    "  | 'E' -> (1,0) |> Some\n",
    "  | 'N' -> (0,1) |> Some\n",
    "  | 'W' -> (-1,0) |> Some\n",
    "  | 'S' -> (0,-1) |> Some\n",
    "  | _ -> None\n",
    "\n",
    "let parseInstruction (s:string) = \n",
    "  match (s.[0], int s.[1..]) with\n",
    "  | CardinalDirection d, i -> i .* d |> Absolute\n",
    "  | 'L', i -> i * 1<degree> |> Rotation\n",
    "  | 'R', i -> i * -1<degree> |> Rotation\n",
    "  | 'F', i -> Forward i\n",
    "  | _ -> failwith s\n",
    "\n",
    "let parse (s:string) =\n",
    "  s.Trim().Split()\n",
    "  |> Seq.map parseInstruction\n",
    "  |> Seq.toList\n",
    "\n",
    "parse \"\"\"F10\n",
    "N3\n",
    "F7\n",
    "R90\n",
    "F11\"\"\" |> sprintf \"%A\""
   ],
   "outputs": [
    {
     "output_type": "execute_result",
     "data": {
      "text/plain": "[Forward 10; Absolute (0, 3); Forward 7; Rotation -90; Forward 11]"
     },
     "execution_count": 1,
     "metadata": {}
    }
   ]
  },
  {
   "cell_type": "code",
   "execution_count": 1,
   "metadata": {},
   "source": [
    "#!fsharp\n",
    "let rotate r = \n",
    "  let inline (%!) x y = (x % y + y) % y // Actual modulo, not remainder\n",
    "  let (a,b,c,d) =\n",
    "    match r %! 360<degree> with\n",
    "    | 0<degree> -> (1,0,0,1)\n",
    "    | 90<degree> -> (0,-1,1,0)\n",
    "    | 180<degree> -> (-1,0,0,-1)\n",
    "    | 270<degree> -> (0,1,-1,0)\n",
    "    | _ -> failwith \"Only supports right-angle rotations\"\n",
    "  fun (x,y) -> (a * x + b * y, c * x + d * y)\n",
    "\n",
    "let go (pos, heading) = function\n",
    "  | Absolute (x,y) -> pos .+ (x,y), heading\n",
    "  | Rotation r -> pos, rotate r heading\n",
    "  | Forward m -> pos .+ m .* heading, heading\n",
    "\n",
    "let runAll f init = Seq.fold f init >> fst\n",
    "\n",
    "let manhattan (x,y) = abs x + abs y\n",
    "\n",
    "let instructions = parse input\n",
    "\n",
    "instructions \n",
    "|> runAll go ((0,0), (1,0))\n",
    "|> manhattan"
   ],
   "outputs": [
    {
     "output_type": "execute_result",
     "data": {
      "text/html": "<div class=\"dni-plaintext\">1148</div>"
     },
     "execution_count": 1,
     "metadata": {}
    }
   ]
  },
  {
   "cell_type": "code",
   "execution_count": 1,
   "metadata": {},
   "source": [
    "#!fsharp\n",
    "let go2 (pos, heading) = function\n",
    "  | Absolute (x,y) -> pos, heading .+ (x,y)\n",
    "  | x -> go (pos, heading) x\n",
    "\n",
    "instructions\n",
    "|> runAll go2 ((0,0), (10,1))\n",
    "|> manhattan"
   ],
   "outputs": [
    {
     "output_type": "execute_result",
     "data": {
      "text/html": "<div class=\"dni-plaintext\">52203</div>"
     },
     "execution_count": 1,
     "metadata": {}
    }
   ]
  }
 ],
 "metadata": {
  "kernelspec": {
   "display_name": ".NET (C#)",
   "language": "C#",
   "name": ".net-csharp"
  },
  "language_info": {
   "file_extension": ".cs",
   "mimetype": "text/x-csharp",
   "name": "C#",
   "pygments_lexer": "csharp",
   "version": "8.0"
  }
 },
 "nbformat": 4,
 "nbformat_minor": 4
}